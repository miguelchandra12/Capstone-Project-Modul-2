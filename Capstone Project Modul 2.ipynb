{
 "cells": [
  {
   "attachments": {},
   "cell_type": "markdown",
   "metadata": {},
   "source": [
    "# Latar Belakang\n",
    "Sebuah content creator yang berasal dari negara US baru memulai channel youtubenya sedang melakukan riset mengenai video yang sedang trending di youtube. Content creator ini telah mengupload beberapa video di youtube namun video yang telah diupload tersebut tidak memiliki pengunjung yang banyak.\n"
   ]
  },
  {
   "attachments": {},
   "cell_type": "markdown",
   "metadata": {},
   "source": [
    "# Pernyataan Masalah\n",
    "Content creator tersebut ingin mengetahui kira-kira **jenis video apa yang banyak diminati dan disukai oleh orang-orang dan apa saja faktor yang mempengaruhi video agar dapat banyak diminati dan disukai oleh orang-orang**. Content creator ini juga ingin mengetahui hal apa yang sekiranya bisa diharapkan ketika memulai suatu channel seperti **seberapa lama kira-kira waktu yang dibutuhkan agar video yang diupload dapat trending dan persentase jumlah like dan dislike per views dari video yang di-upload**. Tujuan dari penelitian ini dilakukan adalah agar content creator bisa mendapatkan insight yang diperlukan agar dapat membuat video yang diupload banyak diminati dan disukai oleh orang-orang."
   ]
  },
  {
   "attachments": {},
   "cell_type": "markdown",
   "metadata": {},
   "source": [
    "# Data\n",
    "Untuk menjawab pertanyaan di atas, kita akan menganalisa data trending youtube video statistics (US Only). Dataset dapat diakses [di sini](https://www.kaggle.com/datasets/datasnaek/youtube-new?sort=published). "
   ]
  },
  {
   "attachments": {},
   "cell_type": "markdown",
   "metadata": {},
   "source": [
    "Dataset ini berisi informasi terkait id video, tanggal trending, judul, nama channel, id kategori, waktu publish, tags, views, likes, dislikes, jumlah comment, link thumbnail, fitur disable comment dinyalakan atau tidak, fitur pemberian rating disable atau tidak, video error atau telah dihapus, dan deskripsi. Ada 16 kolom yakni :\n",
    "\n",
    "* video_id : ID unik untuk tiap video\n",
    "* trending_date : Tahun, tanggal, bulan ketika video tersebut trending\n",
    "* title : Judul video\n",
    "* channel_title : Judul channel dari video tersebut\n",
    "* category_id : ID unik untuk kategori video tersebut\n",
    "* publish_time : Waktu video tersebut di-publish\n",
    "* tags : Tag video tersebut\n",
    "* views : Jumlah views video tersebut\n",
    "* likes : Jumlah likes video tersebut\n",
    "* dislikes : Jumlah dislikes video tersebut\n",
    "* comments_count : Jumlah comment video tersebut\n",
    "* thumbnail_link : Link thumbnail video tersebut\n",
    "* comments_disabled : Keterangan fitur pemberian comment disabled atau tidak\n",
    "* ratings_disabled : Keterangan fitur pemberian rating disabled atau tidak\n",
    "* video_error_or_removed : Keterangan apakah video mengalami error atau telah dihapus\n",
    "* description : Keterangan dari video tersebut\n",
    "\n",
    "Berikut 5 baris teratas dan terbawah dari dataset USvideos"
   ]
  },
  {
   "cell_type": "code",
   "execution_count": 265,
   "metadata": {},
   "outputs": [],
   "source": [
    "import pandas as pd\n",
    "import numpy as np\n",
    "import matplotlib.pyplot as plt\n",
    "import seaborn as sns\n",
    "import matplotlib.ticker as ticker"
   ]
  },
  {
   "cell_type": "code",
   "execution_count": 266,
   "metadata": {},
   "outputs": [
    {
     "data": {
      "text/html": [
       "<div>\n",
       "<style scoped>\n",
       "    .dataframe tbody tr th:only-of-type {\n",
       "        vertical-align: middle;\n",
       "    }\n",
       "\n",
       "    .dataframe tbody tr th {\n",
       "        vertical-align: top;\n",
       "    }\n",
       "\n",
       "    .dataframe thead th {\n",
       "        text-align: right;\n",
       "    }\n",
       "</style>\n",
       "<table border=\"1\" class=\"dataframe\">\n",
       "  <thead>\n",
       "    <tr style=\"text-align: right;\">\n",
       "      <th></th>\n",
       "      <th>video_id</th>\n",
       "      <th>trending_date</th>\n",
       "      <th>title</th>\n",
       "      <th>channel_title</th>\n",
       "      <th>category_id</th>\n",
       "      <th>publish_time</th>\n",
       "      <th>tags</th>\n",
       "      <th>views</th>\n",
       "      <th>likes</th>\n",
       "      <th>dislikes</th>\n",
       "      <th>comment_count</th>\n",
       "      <th>thumbnail_link</th>\n",
       "      <th>comments_disabled</th>\n",
       "      <th>ratings_disabled</th>\n",
       "      <th>video_error_or_removed</th>\n",
       "      <th>description</th>\n",
       "    </tr>\n",
       "  </thead>\n",
       "  <tbody>\n",
       "    <tr>\n",
       "      <th>0</th>\n",
       "      <td>2kyS6SvSYSE</td>\n",
       "      <td>17.14.11</td>\n",
       "      <td>WE WANT TO TALK ABOUT OUR MARRIAGE</td>\n",
       "      <td>CaseyNeistat</td>\n",
       "      <td>22</td>\n",
       "      <td>2017-11-13T17:13:01.000Z</td>\n",
       "      <td>SHANtell martin</td>\n",
       "      <td>748374</td>\n",
       "      <td>57527</td>\n",
       "      <td>2966</td>\n",
       "      <td>15954</td>\n",
       "      <td>https://i.ytimg.com/vi/2kyS6SvSYSE/default.jpg</td>\n",
       "      <td>False</td>\n",
       "      <td>False</td>\n",
       "      <td>False</td>\n",
       "      <td>SHANTELL'S CHANNEL - https://www.youtube.com/s...</td>\n",
       "    </tr>\n",
       "    <tr>\n",
       "      <th>1</th>\n",
       "      <td>1ZAPwfrtAFY</td>\n",
       "      <td>17.14.11</td>\n",
       "      <td>The Trump Presidency: Last Week Tonight with J...</td>\n",
       "      <td>LastWeekTonight</td>\n",
       "      <td>24</td>\n",
       "      <td>2017-11-13T07:30:00.000Z</td>\n",
       "      <td>last week tonight trump presidency|\"last week ...</td>\n",
       "      <td>2418783</td>\n",
       "      <td>97185</td>\n",
       "      <td>6146</td>\n",
       "      <td>12703</td>\n",
       "      <td>https://i.ytimg.com/vi/1ZAPwfrtAFY/default.jpg</td>\n",
       "      <td>False</td>\n",
       "      <td>False</td>\n",
       "      <td>False</td>\n",
       "      <td>One year after the presidential election, John...</td>\n",
       "    </tr>\n",
       "    <tr>\n",
       "      <th>2</th>\n",
       "      <td>5qpjK5DgCt4</td>\n",
       "      <td>17.14.11</td>\n",
       "      <td>Racist Superman | Rudy Mancuso, King Bach &amp; Le...</td>\n",
       "      <td>Rudy Mancuso</td>\n",
       "      <td>23</td>\n",
       "      <td>2017-11-12T19:05:24.000Z</td>\n",
       "      <td>racist superman|\"rudy\"|\"mancuso\"|\"king\"|\"bach\"...</td>\n",
       "      <td>3191434</td>\n",
       "      <td>146033</td>\n",
       "      <td>5339</td>\n",
       "      <td>8181</td>\n",
       "      <td>https://i.ytimg.com/vi/5qpjK5DgCt4/default.jpg</td>\n",
       "      <td>False</td>\n",
       "      <td>False</td>\n",
       "      <td>False</td>\n",
       "      <td>WATCH MY PREVIOUS VIDEO ▶ \\n\\nSUBSCRIBE ► http...</td>\n",
       "    </tr>\n",
       "    <tr>\n",
       "      <th>3</th>\n",
       "      <td>puqaWrEC7tY</td>\n",
       "      <td>17.14.11</td>\n",
       "      <td>Nickelback Lyrics: Real or Fake?</td>\n",
       "      <td>Good Mythical Morning</td>\n",
       "      <td>24</td>\n",
       "      <td>2017-11-13T11:00:04.000Z</td>\n",
       "      <td>rhett and link|\"gmm\"|\"good mythical morning\"|\"...</td>\n",
       "      <td>343168</td>\n",
       "      <td>10172</td>\n",
       "      <td>666</td>\n",
       "      <td>2146</td>\n",
       "      <td>https://i.ytimg.com/vi/puqaWrEC7tY/default.jpg</td>\n",
       "      <td>False</td>\n",
       "      <td>False</td>\n",
       "      <td>False</td>\n",
       "      <td>Today we find out if Link is a Nickelback amat...</td>\n",
       "    </tr>\n",
       "    <tr>\n",
       "      <th>4</th>\n",
       "      <td>d380meD0W0M</td>\n",
       "      <td>17.14.11</td>\n",
       "      <td>I Dare You: GOING BALD!?</td>\n",
       "      <td>nigahiga</td>\n",
       "      <td>24</td>\n",
       "      <td>2017-11-12T18:01:41.000Z</td>\n",
       "      <td>ryan|\"higa\"|\"higatv\"|\"nigahiga\"|\"i dare you\"|\"...</td>\n",
       "      <td>2095731</td>\n",
       "      <td>132235</td>\n",
       "      <td>1989</td>\n",
       "      <td>17518</td>\n",
       "      <td>https://i.ytimg.com/vi/d380meD0W0M/default.jpg</td>\n",
       "      <td>False</td>\n",
       "      <td>False</td>\n",
       "      <td>False</td>\n",
       "      <td>I know it's been a while since we did this sho...</td>\n",
       "    </tr>\n",
       "  </tbody>\n",
       "</table>\n",
       "</div>"
      ],
      "text/plain": [
       "      video_id trending_date  \\\n",
       "0  2kyS6SvSYSE      17.14.11   \n",
       "1  1ZAPwfrtAFY      17.14.11   \n",
       "2  5qpjK5DgCt4      17.14.11   \n",
       "3  puqaWrEC7tY      17.14.11   \n",
       "4  d380meD0W0M      17.14.11   \n",
       "\n",
       "                                               title          channel_title  \\\n",
       "0                 WE WANT TO TALK ABOUT OUR MARRIAGE           CaseyNeistat   \n",
       "1  The Trump Presidency: Last Week Tonight with J...        LastWeekTonight   \n",
       "2  Racist Superman | Rudy Mancuso, King Bach & Le...           Rudy Mancuso   \n",
       "3                   Nickelback Lyrics: Real or Fake?  Good Mythical Morning   \n",
       "4                           I Dare You: GOING BALD!?               nigahiga   \n",
       "\n",
       "   category_id              publish_time  \\\n",
       "0           22  2017-11-13T17:13:01.000Z   \n",
       "1           24  2017-11-13T07:30:00.000Z   \n",
       "2           23  2017-11-12T19:05:24.000Z   \n",
       "3           24  2017-11-13T11:00:04.000Z   \n",
       "4           24  2017-11-12T18:01:41.000Z   \n",
       "\n",
       "                                                tags    views   likes  \\\n",
       "0                                    SHANtell martin   748374   57527   \n",
       "1  last week tonight trump presidency|\"last week ...  2418783   97185   \n",
       "2  racist superman|\"rudy\"|\"mancuso\"|\"king\"|\"bach\"...  3191434  146033   \n",
       "3  rhett and link|\"gmm\"|\"good mythical morning\"|\"...   343168   10172   \n",
       "4  ryan|\"higa\"|\"higatv\"|\"nigahiga\"|\"i dare you\"|\"...  2095731  132235   \n",
       "\n",
       "   dislikes  comment_count                                  thumbnail_link  \\\n",
       "0      2966          15954  https://i.ytimg.com/vi/2kyS6SvSYSE/default.jpg   \n",
       "1      6146          12703  https://i.ytimg.com/vi/1ZAPwfrtAFY/default.jpg   \n",
       "2      5339           8181  https://i.ytimg.com/vi/5qpjK5DgCt4/default.jpg   \n",
       "3       666           2146  https://i.ytimg.com/vi/puqaWrEC7tY/default.jpg   \n",
       "4      1989          17518  https://i.ytimg.com/vi/d380meD0W0M/default.jpg   \n",
       "\n",
       "   comments_disabled  ratings_disabled  video_error_or_removed  \\\n",
       "0              False             False                   False   \n",
       "1              False             False                   False   \n",
       "2              False             False                   False   \n",
       "3              False             False                   False   \n",
       "4              False             False                   False   \n",
       "\n",
       "                                         description  \n",
       "0  SHANTELL'S CHANNEL - https://www.youtube.com/s...  \n",
       "1  One year after the presidential election, John...  \n",
       "2  WATCH MY PREVIOUS VIDEO ▶ \\n\\nSUBSCRIBE ► http...  \n",
       "3  Today we find out if Link is a Nickelback amat...  \n",
       "4  I know it's been a while since we did this sho...  "
      ]
     },
     "metadata": {},
     "output_type": "display_data"
    },
    {
     "data": {
      "text/html": [
       "<div>\n",
       "<style scoped>\n",
       "    .dataframe tbody tr th:only-of-type {\n",
       "        vertical-align: middle;\n",
       "    }\n",
       "\n",
       "    .dataframe tbody tr th {\n",
       "        vertical-align: top;\n",
       "    }\n",
       "\n",
       "    .dataframe thead th {\n",
       "        text-align: right;\n",
       "    }\n",
       "</style>\n",
       "<table border=\"1\" class=\"dataframe\">\n",
       "  <thead>\n",
       "    <tr style=\"text-align: right;\">\n",
       "      <th></th>\n",
       "      <th>video_id</th>\n",
       "      <th>trending_date</th>\n",
       "      <th>title</th>\n",
       "      <th>channel_title</th>\n",
       "      <th>category_id</th>\n",
       "      <th>publish_time</th>\n",
       "      <th>tags</th>\n",
       "      <th>views</th>\n",
       "      <th>likes</th>\n",
       "      <th>dislikes</th>\n",
       "      <th>comment_count</th>\n",
       "      <th>thumbnail_link</th>\n",
       "      <th>comments_disabled</th>\n",
       "      <th>ratings_disabled</th>\n",
       "      <th>video_error_or_removed</th>\n",
       "      <th>description</th>\n",
       "    </tr>\n",
       "  </thead>\n",
       "  <tbody>\n",
       "    <tr>\n",
       "      <th>40944</th>\n",
       "      <td>BZt0qjTWNhw</td>\n",
       "      <td>18.14.06</td>\n",
       "      <td>The Cat Who Caught the Laser</td>\n",
       "      <td>AaronsAnimals</td>\n",
       "      <td>15</td>\n",
       "      <td>2018-05-18T13:00:04.000Z</td>\n",
       "      <td>aarons animals|\"aarons\"|\"animals\"|\"cat\"|\"cats\"...</td>\n",
       "      <td>1685609</td>\n",
       "      <td>38160</td>\n",
       "      <td>1385</td>\n",
       "      <td>2657</td>\n",
       "      <td>https://i.ytimg.com/vi/BZt0qjTWNhw/default.jpg</td>\n",
       "      <td>False</td>\n",
       "      <td>False</td>\n",
       "      <td>False</td>\n",
       "      <td>The Cat Who Caught the Laser - Aaron's Animals</td>\n",
       "    </tr>\n",
       "    <tr>\n",
       "      <th>40945</th>\n",
       "      <td>1h7KV2sjUWY</td>\n",
       "      <td>18.14.06</td>\n",
       "      <td>True Facts : Ant Mutualism</td>\n",
       "      <td>zefrank1</td>\n",
       "      <td>22</td>\n",
       "      <td>2018-05-18T01:00:06.000Z</td>\n",
       "      <td>[none]</td>\n",
       "      <td>1064798</td>\n",
       "      <td>60008</td>\n",
       "      <td>382</td>\n",
       "      <td>3936</td>\n",
       "      <td>https://i.ytimg.com/vi/1h7KV2sjUWY/default.jpg</td>\n",
       "      <td>False</td>\n",
       "      <td>False</td>\n",
       "      <td>False</td>\n",
       "      <td>NaN</td>\n",
       "    </tr>\n",
       "    <tr>\n",
       "      <th>40946</th>\n",
       "      <td>D6Oy4LfoqsU</td>\n",
       "      <td>18.14.06</td>\n",
       "      <td>I GAVE SAFIYA NYGAARD A PERFECT HAIR MAKEOVER ...</td>\n",
       "      <td>Brad Mondo</td>\n",
       "      <td>24</td>\n",
       "      <td>2018-05-18T17:34:22.000Z</td>\n",
       "      <td>I gave safiya nygaard a perfect hair makeover ...</td>\n",
       "      <td>1066451</td>\n",
       "      <td>48068</td>\n",
       "      <td>1032</td>\n",
       "      <td>3992</td>\n",
       "      <td>https://i.ytimg.com/vi/D6Oy4LfoqsU/default.jpg</td>\n",
       "      <td>False</td>\n",
       "      <td>False</td>\n",
       "      <td>False</td>\n",
       "      <td>I had so much fun transforming Safiyas hair in...</td>\n",
       "    </tr>\n",
       "    <tr>\n",
       "      <th>40947</th>\n",
       "      <td>oV0zkMe1K8s</td>\n",
       "      <td>18.14.06</td>\n",
       "      <td>How Black Panther Should Have Ended</td>\n",
       "      <td>How It Should Have Ended</td>\n",
       "      <td>1</td>\n",
       "      <td>2018-05-17T17:00:04.000Z</td>\n",
       "      <td>Black Panther|\"HISHE\"|\"Marvel\"|\"Infinity War\"|...</td>\n",
       "      <td>5660813</td>\n",
       "      <td>192957</td>\n",
       "      <td>2846</td>\n",
       "      <td>13088</td>\n",
       "      <td>https://i.ytimg.com/vi/oV0zkMe1K8s/default.jpg</td>\n",
       "      <td>False</td>\n",
       "      <td>False</td>\n",
       "      <td>False</td>\n",
       "      <td>How Black Panther Should Have EndedWatch More ...</td>\n",
       "    </tr>\n",
       "    <tr>\n",
       "      <th>40948</th>\n",
       "      <td>ooyjaVdt-jA</td>\n",
       "      <td>18.14.06</td>\n",
       "      <td>Official Call of Duty®: Black Ops 4 — Multipla...</td>\n",
       "      <td>Call of Duty</td>\n",
       "      <td>20</td>\n",
       "      <td>2018-05-17T17:09:38.000Z</td>\n",
       "      <td>call of duty|\"cod\"|\"activision\"|\"Black Ops 4\"</td>\n",
       "      <td>10306119</td>\n",
       "      <td>357079</td>\n",
       "      <td>212976</td>\n",
       "      <td>144795</td>\n",
       "      <td>https://i.ytimg.com/vi/ooyjaVdt-jA/default.jpg</td>\n",
       "      <td>False</td>\n",
       "      <td>False</td>\n",
       "      <td>False</td>\n",
       "      <td>Call of Duty: Black Ops 4 Multiplayer raises t...</td>\n",
       "    </tr>\n",
       "  </tbody>\n",
       "</table>\n",
       "</div>"
      ],
      "text/plain": [
       "          video_id trending_date  \\\n",
       "40944  BZt0qjTWNhw      18.14.06   \n",
       "40945  1h7KV2sjUWY      18.14.06   \n",
       "40946  D6Oy4LfoqsU      18.14.06   \n",
       "40947  oV0zkMe1K8s      18.14.06   \n",
       "40948  ooyjaVdt-jA      18.14.06   \n",
       "\n",
       "                                                   title  \\\n",
       "40944                       The Cat Who Caught the Laser   \n",
       "40945                         True Facts : Ant Mutualism   \n",
       "40946  I GAVE SAFIYA NYGAARD A PERFECT HAIR MAKEOVER ...   \n",
       "40947                How Black Panther Should Have Ended   \n",
       "40948  Official Call of Duty®: Black Ops 4 — Multipla...   \n",
       "\n",
       "                  channel_title  category_id              publish_time  \\\n",
       "40944             AaronsAnimals           15  2018-05-18T13:00:04.000Z   \n",
       "40945                  zefrank1           22  2018-05-18T01:00:06.000Z   \n",
       "40946                Brad Mondo           24  2018-05-18T17:34:22.000Z   \n",
       "40947  How It Should Have Ended            1  2018-05-17T17:00:04.000Z   \n",
       "40948              Call of Duty           20  2018-05-17T17:09:38.000Z   \n",
       "\n",
       "                                                    tags     views   likes  \\\n",
       "40944  aarons animals|\"aarons\"|\"animals\"|\"cat\"|\"cats\"...   1685609   38160   \n",
       "40945                                             [none]   1064798   60008   \n",
       "40946  I gave safiya nygaard a perfect hair makeover ...   1066451   48068   \n",
       "40947  Black Panther|\"HISHE\"|\"Marvel\"|\"Infinity War\"|...   5660813  192957   \n",
       "40948      call of duty|\"cod\"|\"activision\"|\"Black Ops 4\"  10306119  357079   \n",
       "\n",
       "       dislikes  comment_count  \\\n",
       "40944      1385           2657   \n",
       "40945       382           3936   \n",
       "40946      1032           3992   \n",
       "40947      2846          13088   \n",
       "40948    212976         144795   \n",
       "\n",
       "                                       thumbnail_link  comments_disabled  \\\n",
       "40944  https://i.ytimg.com/vi/BZt0qjTWNhw/default.jpg              False   \n",
       "40945  https://i.ytimg.com/vi/1h7KV2sjUWY/default.jpg              False   \n",
       "40946  https://i.ytimg.com/vi/D6Oy4LfoqsU/default.jpg              False   \n",
       "40947  https://i.ytimg.com/vi/oV0zkMe1K8s/default.jpg              False   \n",
       "40948  https://i.ytimg.com/vi/ooyjaVdt-jA/default.jpg              False   \n",
       "\n",
       "       ratings_disabled  video_error_or_removed  \\\n",
       "40944             False                   False   \n",
       "40945             False                   False   \n",
       "40946             False                   False   \n",
       "40947             False                   False   \n",
       "40948             False                   False   \n",
       "\n",
       "                                             description  \n",
       "40944     The Cat Who Caught the Laser - Aaron's Animals  \n",
       "40945                                                NaN  \n",
       "40946  I had so much fun transforming Safiyas hair in...  \n",
       "40947  How Black Panther Should Have EndedWatch More ...  \n",
       "40948  Call of Duty: Black Ops 4 Multiplayer raises t...  "
      ]
     },
     "metadata": {},
     "output_type": "display_data"
    }
   ],
   "source": [
    "df = pd.read_csv(\"USvideos.csv\")\n",
    "display(df.head(), df.tail())"
   ]
  },
  {
   "attachments": {},
   "cell_type": "markdown",
   "metadata": {},
   "source": [
    "# Data Understanding and Cleaning\n",
    "Sebelum masuk ke dalam analisis, kita perlu mengenal dataset kita lebih jauh dalam tahapan data understanding. Proses ini akan memberikan kita informasi mengenai anomali-anomali apa saja yang terdapat di dalam dataset kita dan perlu ditangani dalam tahapan data cleaning. Setiap penanganan anomali yang dilakukan, akan diberikan penjelasan mengapa langkah tersebut diambil"
   ]
  },
  {
   "cell_type": "code",
   "execution_count": 267,
   "metadata": {},
   "outputs": [
    {
     "name": "stdout",
     "output_type": "stream",
     "text": [
      "Jumlah baris dan kolom pada dataset df ini sendiri adalah (40949, 16)\n",
      "<class 'pandas.core.frame.DataFrame'>\n",
      "RangeIndex: 40949 entries, 0 to 40948\n",
      "Data columns (total 16 columns):\n",
      " #   Column                  Non-Null Count  Dtype \n",
      "---  ------                  --------------  ----- \n",
      " 0   video_id                40949 non-null  object\n",
      " 1   trending_date           40949 non-null  object\n",
      " 2   title                   40949 non-null  object\n",
      " 3   channel_title           40949 non-null  object\n",
      " 4   category_id             40949 non-null  int64 \n",
      " 5   publish_time            40949 non-null  object\n",
      " 6   tags                    40949 non-null  object\n",
      " 7   views                   40949 non-null  int64 \n",
      " 8   likes                   40949 non-null  int64 \n",
      " 9   dislikes                40949 non-null  int64 \n",
      " 10  comment_count           40949 non-null  int64 \n",
      " 11  thumbnail_link          40949 non-null  object\n",
      " 12  comments_disabled       40949 non-null  bool  \n",
      " 13  ratings_disabled        40949 non-null  bool  \n",
      " 14  video_error_or_removed  40949 non-null  bool  \n",
      " 15  description             40379 non-null  object\n",
      "dtypes: bool(3), int64(5), object(8)\n",
      "memory usage: 4.2+ MB\n"
     ]
    }
   ],
   "source": [
    "print(f\"Jumlah baris dan kolom pada dataset df ini sendiri adalah {df.shape}\")\n",
    "df.info()"
   ]
  },
  {
   "cell_type": "code",
   "execution_count": 268,
   "metadata": {},
   "outputs": [
    {
     "data": {
      "text/html": [
       "<div>\n",
       "<style scoped>\n",
       "    .dataframe tbody tr th:only-of-type {\n",
       "        vertical-align: middle;\n",
       "    }\n",
       "\n",
       "    .dataframe tbody tr th {\n",
       "        vertical-align: top;\n",
       "    }\n",
       "\n",
       "    .dataframe thead th {\n",
       "        text-align: right;\n",
       "    }\n",
       "</style>\n",
       "<table border=\"1\" class=\"dataframe\">\n",
       "  <thead>\n",
       "    <tr style=\"text-align: right;\">\n",
       "      <th></th>\n",
       "      <th>category_id</th>\n",
       "      <th>views</th>\n",
       "      <th>likes</th>\n",
       "      <th>dislikes</th>\n",
       "      <th>comment_count</th>\n",
       "    </tr>\n",
       "  </thead>\n",
       "  <tbody>\n",
       "    <tr>\n",
       "      <th>count</th>\n",
       "      <td>40949.000000</td>\n",
       "      <td>4.094900e+04</td>\n",
       "      <td>4.094900e+04</td>\n",
       "      <td>4.094900e+04</td>\n",
       "      <td>4.094900e+04</td>\n",
       "    </tr>\n",
       "    <tr>\n",
       "      <th>mean</th>\n",
       "      <td>19.972429</td>\n",
       "      <td>2.360785e+06</td>\n",
       "      <td>7.426670e+04</td>\n",
       "      <td>3.711401e+03</td>\n",
       "      <td>8.446804e+03</td>\n",
       "    </tr>\n",
       "    <tr>\n",
       "      <th>std</th>\n",
       "      <td>7.568327</td>\n",
       "      <td>7.394114e+06</td>\n",
       "      <td>2.288853e+05</td>\n",
       "      <td>2.902971e+04</td>\n",
       "      <td>3.743049e+04</td>\n",
       "    </tr>\n",
       "    <tr>\n",
       "      <th>min</th>\n",
       "      <td>1.000000</td>\n",
       "      <td>5.490000e+02</td>\n",
       "      <td>0.000000e+00</td>\n",
       "      <td>0.000000e+00</td>\n",
       "      <td>0.000000e+00</td>\n",
       "    </tr>\n",
       "    <tr>\n",
       "      <th>25%</th>\n",
       "      <td>17.000000</td>\n",
       "      <td>2.423290e+05</td>\n",
       "      <td>5.424000e+03</td>\n",
       "      <td>2.020000e+02</td>\n",
       "      <td>6.140000e+02</td>\n",
       "    </tr>\n",
       "    <tr>\n",
       "      <th>50%</th>\n",
       "      <td>24.000000</td>\n",
       "      <td>6.818610e+05</td>\n",
       "      <td>1.809100e+04</td>\n",
       "      <td>6.310000e+02</td>\n",
       "      <td>1.856000e+03</td>\n",
       "    </tr>\n",
       "    <tr>\n",
       "      <th>75%</th>\n",
       "      <td>25.000000</td>\n",
       "      <td>1.823157e+06</td>\n",
       "      <td>5.541700e+04</td>\n",
       "      <td>1.938000e+03</td>\n",
       "      <td>5.755000e+03</td>\n",
       "    </tr>\n",
       "    <tr>\n",
       "      <th>max</th>\n",
       "      <td>43.000000</td>\n",
       "      <td>2.252119e+08</td>\n",
       "      <td>5.613827e+06</td>\n",
       "      <td>1.674420e+06</td>\n",
       "      <td>1.361580e+06</td>\n",
       "    </tr>\n",
       "  </tbody>\n",
       "</table>\n",
       "</div>"
      ],
      "text/plain": [
       "        category_id         views         likes      dislikes  comment_count\n",
       "count  40949.000000  4.094900e+04  4.094900e+04  4.094900e+04   4.094900e+04\n",
       "mean      19.972429  2.360785e+06  7.426670e+04  3.711401e+03   8.446804e+03\n",
       "std        7.568327  7.394114e+06  2.288853e+05  2.902971e+04   3.743049e+04\n",
       "min        1.000000  5.490000e+02  0.000000e+00  0.000000e+00   0.000000e+00\n",
       "25%       17.000000  2.423290e+05  5.424000e+03  2.020000e+02   6.140000e+02\n",
       "50%       24.000000  6.818610e+05  1.809100e+04  6.310000e+02   1.856000e+03\n",
       "75%       25.000000  1.823157e+06  5.541700e+04  1.938000e+03   5.755000e+03\n",
       "max       43.000000  2.252119e+08  5.613827e+06  1.674420e+06   1.361580e+06"
      ]
     },
     "metadata": {},
     "output_type": "display_data"
    },
    {
     "data": {
      "text/html": [
       "<div>\n",
       "<style scoped>\n",
       "    .dataframe tbody tr th:only-of-type {\n",
       "        vertical-align: middle;\n",
       "    }\n",
       "\n",
       "    .dataframe tbody tr th {\n",
       "        vertical-align: top;\n",
       "    }\n",
       "\n",
       "    .dataframe thead th {\n",
       "        text-align: right;\n",
       "    }\n",
       "</style>\n",
       "<table border=\"1\" class=\"dataframe\">\n",
       "  <thead>\n",
       "    <tr style=\"text-align: right;\">\n",
       "      <th></th>\n",
       "      <th>video_id</th>\n",
       "      <th>trending_date</th>\n",
       "      <th>title</th>\n",
       "      <th>channel_title</th>\n",
       "      <th>publish_time</th>\n",
       "      <th>tags</th>\n",
       "      <th>thumbnail_link</th>\n",
       "      <th>description</th>\n",
       "    </tr>\n",
       "  </thead>\n",
       "  <tbody>\n",
       "    <tr>\n",
       "      <th>count</th>\n",
       "      <td>40949</td>\n",
       "      <td>40949</td>\n",
       "      <td>40949</td>\n",
       "      <td>40949</td>\n",
       "      <td>40949</td>\n",
       "      <td>40949</td>\n",
       "      <td>40949</td>\n",
       "      <td>40379</td>\n",
       "    </tr>\n",
       "    <tr>\n",
       "      <th>unique</th>\n",
       "      <td>6351</td>\n",
       "      <td>205</td>\n",
       "      <td>6455</td>\n",
       "      <td>2207</td>\n",
       "      <td>6269</td>\n",
       "      <td>6055</td>\n",
       "      <td>6352</td>\n",
       "      <td>6901</td>\n",
       "    </tr>\n",
       "    <tr>\n",
       "      <th>top</th>\n",
       "      <td>j4KvrAUjn6c</td>\n",
       "      <td>17.14.11</td>\n",
       "      <td>WE MADE OUR MOM CRY...HER DREAM CAME TRUE!</td>\n",
       "      <td>ESPN</td>\n",
       "      <td>2018-05-18T14:00:04.000Z</td>\n",
       "      <td>[none]</td>\n",
       "      <td>https://i.ytimg.com/vi/j4KvrAUjn6c/default.jpg</td>\n",
       "      <td>► Listen LIVE: http://power1051fm.com/\\n► Face...</td>\n",
       "    </tr>\n",
       "    <tr>\n",
       "      <th>freq</th>\n",
       "      <td>30</td>\n",
       "      <td>200</td>\n",
       "      <td>30</td>\n",
       "      <td>203</td>\n",
       "      <td>50</td>\n",
       "      <td>1535</td>\n",
       "      <td>30</td>\n",
       "      <td>58</td>\n",
       "    </tr>\n",
       "  </tbody>\n",
       "</table>\n",
       "</div>"
      ],
      "text/plain": [
       "           video_id trending_date                                       title  \\\n",
       "count         40949         40949                                       40949   \n",
       "unique         6351           205                                        6455   \n",
       "top     j4KvrAUjn6c      17.14.11  WE MADE OUR MOM CRY...HER DREAM CAME TRUE!   \n",
       "freq             30           200                                          30   \n",
       "\n",
       "       channel_title              publish_time    tags  \\\n",
       "count          40949                     40949   40949   \n",
       "unique          2207                      6269    6055   \n",
       "top             ESPN  2018-05-18T14:00:04.000Z  [none]   \n",
       "freq             203                        50    1535   \n",
       "\n",
       "                                        thumbnail_link  \\\n",
       "count                                            40949   \n",
       "unique                                            6352   \n",
       "top     https://i.ytimg.com/vi/j4KvrAUjn6c/default.jpg   \n",
       "freq                                                30   \n",
       "\n",
       "                                              description  \n",
       "count                                               40379  \n",
       "unique                                               6901  \n",
       "top     ► Listen LIVE: http://power1051fm.com/\\n► Face...  \n",
       "freq                                                   58  "
      ]
     },
     "metadata": {},
     "output_type": "display_data"
    },
    {
     "data": {
      "text/html": [
       "<div>\n",
       "<style scoped>\n",
       "    .dataframe tbody tr th:only-of-type {\n",
       "        vertical-align: middle;\n",
       "    }\n",
       "\n",
       "    .dataframe tbody tr th {\n",
       "        vertical-align: top;\n",
       "    }\n",
       "\n",
       "    .dataframe thead th {\n",
       "        text-align: right;\n",
       "    }\n",
       "</style>\n",
       "<table border=\"1\" class=\"dataframe\">\n",
       "  <thead>\n",
       "    <tr style=\"text-align: right;\">\n",
       "      <th></th>\n",
       "      <th>comments_disabled</th>\n",
       "      <th>ratings_disabled</th>\n",
       "      <th>video_error_or_removed</th>\n",
       "    </tr>\n",
       "  </thead>\n",
       "  <tbody>\n",
       "    <tr>\n",
       "      <th>count</th>\n",
       "      <td>40949</td>\n",
       "      <td>40949</td>\n",
       "      <td>40949</td>\n",
       "    </tr>\n",
       "    <tr>\n",
       "      <th>unique</th>\n",
       "      <td>2</td>\n",
       "      <td>2</td>\n",
       "      <td>2</td>\n",
       "    </tr>\n",
       "    <tr>\n",
       "      <th>top</th>\n",
       "      <td>False</td>\n",
       "      <td>False</td>\n",
       "      <td>False</td>\n",
       "    </tr>\n",
       "    <tr>\n",
       "      <th>freq</th>\n",
       "      <td>40316</td>\n",
       "      <td>40780</td>\n",
       "      <td>40926</td>\n",
       "    </tr>\n",
       "  </tbody>\n",
       "</table>\n",
       "</div>"
      ],
      "text/plain": [
       "       comments_disabled ratings_disabled video_error_or_removed\n",
       "count              40949            40949                  40949\n",
       "unique                 2                2                      2\n",
       "top                False            False                  False\n",
       "freq               40316            40780                  40926"
      ]
     },
     "metadata": {},
     "output_type": "display_data"
    }
   ],
   "source": [
    "display(df.describe(), df.describe(include = 'object'), df.describe(include = 'bool'))"
   ]
  },
  {
   "cell_type": "code",
   "execution_count": 269,
   "metadata": {},
   "outputs": [
    {
     "data": {
      "text/html": [
       "<div>\n",
       "<style scoped>\n",
       "    .dataframe tbody tr th:only-of-type {\n",
       "        vertical-align: middle;\n",
       "    }\n",
       "\n",
       "    .dataframe tbody tr th {\n",
       "        vertical-align: top;\n",
       "    }\n",
       "\n",
       "    .dataframe thead th {\n",
       "        text-align: right;\n",
       "    }\n",
       "</style>\n",
       "<table border=\"1\" class=\"dataframe\">\n",
       "  <thead>\n",
       "    <tr style=\"text-align: right;\">\n",
       "      <th></th>\n",
       "      <th>Column Name</th>\n",
       "      <th>Number Of Unique</th>\n",
       "      <th>Unique Content</th>\n",
       "    </tr>\n",
       "  </thead>\n",
       "  <tbody>\n",
       "    <tr>\n",
       "      <th>0</th>\n",
       "      <td>video_id</td>\n",
       "      <td>6351</td>\n",
       "      <td>[2kyS6SvSYSE, 1ZAPwfrtAFY, 5qpjK5DgCt4, puqaWr...</td>\n",
       "    </tr>\n",
       "    <tr>\n",
       "      <th>1</th>\n",
       "      <td>trending_date</td>\n",
       "      <td>205</td>\n",
       "      <td>[17.14.11, 17.15.11, 17.16.11, 17.17.11, 17.18...</td>\n",
       "    </tr>\n",
       "    <tr>\n",
       "      <th>2</th>\n",
       "      <td>title</td>\n",
       "      <td>6455</td>\n",
       "      <td>[WE WANT TO TALK ABOUT OUR MARRIAGE, The Trump...</td>\n",
       "    </tr>\n",
       "    <tr>\n",
       "      <th>3</th>\n",
       "      <td>channel_title</td>\n",
       "      <td>2207</td>\n",
       "      <td>[CaseyNeistat, LastWeekTonight, Rudy Mancuso, ...</td>\n",
       "    </tr>\n",
       "    <tr>\n",
       "      <th>4</th>\n",
       "      <td>category_id</td>\n",
       "      <td>16</td>\n",
       "      <td>[22, 24, 23, 28, 1, 25, 17, 10, 15, 27, 26, 2,...</td>\n",
       "    </tr>\n",
       "    <tr>\n",
       "      <th>5</th>\n",
       "      <td>publish_time</td>\n",
       "      <td>6269</td>\n",
       "      <td>[2017-11-13T17:13:01.000Z, 2017-11-13T07:30:00...</td>\n",
       "    </tr>\n",
       "    <tr>\n",
       "      <th>6</th>\n",
       "      <td>tags</td>\n",
       "      <td>6055</td>\n",
       "      <td>[SHANtell martin, last week tonight trump pres...</td>\n",
       "    </tr>\n",
       "    <tr>\n",
       "      <th>7</th>\n",
       "      <td>views</td>\n",
       "      <td>40478</td>\n",
       "      <td>[748374, 2418783, 3191434, 343168, 2095731, 11...</td>\n",
       "    </tr>\n",
       "    <tr>\n",
       "      <th>8</th>\n",
       "      <td>likes</td>\n",
       "      <td>29850</td>\n",
       "      <td>[57527, 97185, 146033, 10172, 132235, 9763, 15...</td>\n",
       "    </tr>\n",
       "    <tr>\n",
       "      <th>9</th>\n",
       "      <td>dislikes</td>\n",
       "      <td>8516</td>\n",
       "      <td>[2966, 6146, 5339, 666, 1989, 511, 2445, 778, ...</td>\n",
       "    </tr>\n",
       "    <tr>\n",
       "      <th>10</th>\n",
       "      <td>comment_count</td>\n",
       "      <td>13773</td>\n",
       "      <td>[15954, 12703, 8181, 2146, 17518, 1434, 1970, ...</td>\n",
       "    </tr>\n",
       "    <tr>\n",
       "      <th>11</th>\n",
       "      <td>thumbnail_link</td>\n",
       "      <td>6352</td>\n",
       "      <td>[https://i.ytimg.com/vi/2kyS6SvSYSE/default.jp...</td>\n",
       "    </tr>\n",
       "    <tr>\n",
       "      <th>12</th>\n",
       "      <td>comments_disabled</td>\n",
       "      <td>2</td>\n",
       "      <td>[False, True]</td>\n",
       "    </tr>\n",
       "    <tr>\n",
       "      <th>13</th>\n",
       "      <td>ratings_disabled</td>\n",
       "      <td>2</td>\n",
       "      <td>[False, True]</td>\n",
       "    </tr>\n",
       "    <tr>\n",
       "      <th>14</th>\n",
       "      <td>video_error_or_removed</td>\n",
       "      <td>2</td>\n",
       "      <td>[False, True]</td>\n",
       "    </tr>\n",
       "    <tr>\n",
       "      <th>15</th>\n",
       "      <td>description</td>\n",
       "      <td>6901</td>\n",
       "      <td>[SHANTELL'S CHANNEL - https://www.youtube.com/...</td>\n",
       "    </tr>\n",
       "  </tbody>\n",
       "</table>\n",
       "</div>"
      ],
      "text/plain": [
       "               Column Name  Number Of Unique  \\\n",
       "0                 video_id              6351   \n",
       "1            trending_date               205   \n",
       "2                    title              6455   \n",
       "3            channel_title              2207   \n",
       "4              category_id                16   \n",
       "5             publish_time              6269   \n",
       "6                     tags              6055   \n",
       "7                    views             40478   \n",
       "8                    likes             29850   \n",
       "9                 dislikes              8516   \n",
       "10           comment_count             13773   \n",
       "11          thumbnail_link              6352   \n",
       "12       comments_disabled                 2   \n",
       "13        ratings_disabled                 2   \n",
       "14  video_error_or_removed                 2   \n",
       "15             description              6901   \n",
       "\n",
       "                                       Unique Content  \n",
       "0   [2kyS6SvSYSE, 1ZAPwfrtAFY, 5qpjK5DgCt4, puqaWr...  \n",
       "1   [17.14.11, 17.15.11, 17.16.11, 17.17.11, 17.18...  \n",
       "2   [WE WANT TO TALK ABOUT OUR MARRIAGE, The Trump...  \n",
       "3   [CaseyNeistat, LastWeekTonight, Rudy Mancuso, ...  \n",
       "4   [22, 24, 23, 28, 1, 25, 17, 10, 15, 27, 26, 2,...  \n",
       "5   [2017-11-13T17:13:01.000Z, 2017-11-13T07:30:00...  \n",
       "6   [SHANtell martin, last week tonight trump pres...  \n",
       "7   [748374, 2418783, 3191434, 343168, 2095731, 11...  \n",
       "8   [57527, 97185, 146033, 10172, 132235, 9763, 15...  \n",
       "9   [2966, 6146, 5339, 666, 1989, 511, 2445, 778, ...  \n",
       "10  [15954, 12703, 8181, 2146, 17518, 1434, 1970, ...  \n",
       "11  [https://i.ytimg.com/vi/2kyS6SvSYSE/default.jp...  \n",
       "12                                      [False, True]  \n",
       "13                                      [False, True]  \n",
       "14                                      [False, True]  \n",
       "15  [SHANTELL'S CHANNEL - https://www.youtube.com/...  "
      ]
     },
     "execution_count": 269,
     "metadata": {},
     "output_type": "execute_result"
    }
   ],
   "source": [
    "item = []\n",
    "for x in df.columns:\n",
    "    item.append([x, df[x].nunique(), df[x].unique()])\n",
    "\n",
    "desc_table = pd.DataFrame(columns = [\"Column Name\", \"Number Of Unique\", \"Unique Content\"], data = item)\n",
    "desc_table "
   ]
  },
  {
   "cell_type": "code",
   "execution_count": 270,
   "metadata": {},
   "outputs": [
    {
     "data": {
      "text/plain": [
       "video_id                    0\n",
       "trending_date               0\n",
       "title                       0\n",
       "channel_title               0\n",
       "category_id                 0\n",
       "publish_time                0\n",
       "tags                        0\n",
       "views                       0\n",
       "likes                       0\n",
       "dislikes                    0\n",
       "comment_count               0\n",
       "thumbnail_link              0\n",
       "comments_disabled           0\n",
       "ratings_disabled            0\n",
       "video_error_or_removed      0\n",
       "description               570\n",
       "dtype: int64"
      ]
     },
     "execution_count": 270,
     "metadata": {},
     "output_type": "execute_result"
    }
   ],
   "source": [
    "df.isna().sum()"
   ]
  },
  {
   "attachments": {},
   "cell_type": "markdown",
   "metadata": {},
   "source": [
    "Dari investigasi diatas, kita bisa melihat bahwa :\n",
    "* Dataset trending youtube video statistic (US Only) memiliki 40949 baris dan 16 kolom\n",
    "* Kolom yang memiliki data kosong adalah kolom `description` yakni sebanyak 570 data kosong namun kolom ini tidak dihapus karena dapat dilakukan analisa tambahan mengenai perbedaan views, likes, dan dislikes dari video yang memiliki `description` dan yang tidak memiliki `description`\n",
    "* Kolom `video_id` berisikan id unik untuk tiap video sehingga data ini tidak relevan dan dapat dihapus\n",
    "* Kolom `category_id` perlu diubah menjadi nama kategori berdasarkan id unik tersebut\n",
    "* Kolom `comment_disabled` dan `comment_count` perlu dihapus karena isi dari komen user bisa menjadi hal tidak relevan dengan konten video tersebut\n",
    "* Kolom `trending_date` berisi dalam format tahun/hari/bulan \n",
    "* Dataset ini tidak berisi mengenai ratings sehingga kolom `ratings_disabled` juga dapat dihapus\n",
    "* Kolom `thumbnail_link` juga dapat dihapus dikarenakan hal ini tidak relevan dengan analisis yang ingin dibuat\n",
    "* Terdapat perbedaan format data dari kolom `trending_date` dan `publish_time` dimana format data ini perlu disamakan untuk mencari lama waktu yang dibutuhkan oleh video tersebut untuk trending dimana hal ini berfungsi sebagai pemberi insight tambahan bagi content creator untuk melihat sekiranya berapa lama waktu yang dibutuhkan agar video yang dibuatnya dapat trending\n",
    "* Kolom `video_error_or_removed` yang berisi True akan digunakan sebagai basis penghapusan baris karena kita tidak dapat mengetahui apakah video tersebut mengalami error atau dihapus sehingga diasumsikan bahwa video yang memiliki nilai True dalam kolom video_error_or_removed diasumsikan semuanya di remove karena melanggar suatu kebijakan dalam youtube"
   ]
  },
  {
   "attachments": {},
   "cell_type": "markdown",
   "metadata": {},
   "source": [
    "Dari keterangan diatas, pertama akan dihapus kolom `video_id`, `comment_disabled`, `comment_count`, `ratings_disabled`, dan `thumbnail_link`."
   ]
  },
  {
   "cell_type": "code",
   "execution_count": 271,
   "metadata": {},
   "outputs": [],
   "source": [
    "df_cleaned = df.copy()"
   ]
  },
  {
   "cell_type": "code",
   "execution_count": 272,
   "metadata": {},
   "outputs": [],
   "source": [
    "df_cleaned = df_cleaned.drop(['video_id', 'comments_disabled', 'comment_count', 'ratings_disabled', 'thumbnail_link'], axis = 1)"
   ]
  },
  {
   "attachments": {},
   "cell_type": "markdown",
   "metadata": {},
   "source": [
    "Kemudian, perlu dilakukan penghapusan baris yang memiliki nilai True pada kolom `video_error_or_removed`."
   ]
  },
  {
   "cell_type": "code",
   "execution_count": 273,
   "metadata": {},
   "outputs": [
    {
     "data": {
      "text/plain": [
       "(23,)"
      ]
     },
     "execution_count": 273,
     "metadata": {},
     "output_type": "execute_result"
    }
   ],
   "source": [
    "df_cleaned['video_error_or_removed'].loc[df_cleaned['video_error_or_removed'] == True].shape"
   ]
  },
  {
   "attachments": {},
   "cell_type": "markdown",
   "metadata": {},
   "source": [
    "Terdapat 23 baris yang memiliki nilai True pada kolom `video_error_or_removed` sehingga akan dilakukan penghapusan pada 23 baris ini."
   ]
  },
  {
   "cell_type": "code",
   "execution_count": 274,
   "metadata": {},
   "outputs": [],
   "source": [
    "df_cleaned = df_cleaned.drop(df_cleaned[df_cleaned['video_error_or_removed'] == True].index)"
   ]
  },
  {
   "cell_type": "code",
   "execution_count": 275,
   "metadata": {},
   "outputs": [
    {
     "data": {
      "text/plain": [
       "False    40926\n",
       "Name: video_error_or_removed, dtype: int64"
      ]
     },
     "execution_count": 275,
     "metadata": {},
     "output_type": "execute_result"
    }
   ],
   "source": [
    "df_cleaned['video_error_or_removed'].value_counts()"
   ]
  },
  {
   "cell_type": "code",
   "execution_count": 276,
   "metadata": {},
   "outputs": [
    {
     "data": {
      "text/plain": [
       "(40926, 11)"
      ]
     },
     "execution_count": 276,
     "metadata": {},
     "output_type": "execute_result"
    }
   ],
   "source": [
    "df_cleaned.shape"
   ]
  },
  {
   "attachments": {},
   "cell_type": "markdown",
   "metadata": {},
   "source": [
    "Dari hal ini, telah tervalidasi bahwa penghapusan baris untuk baris yang memiliki nilai True pada kolom `video_error_or_removed` telah berhasil dilakukan karena pengurangan baris sejumlah 23 (dari 40949 baris menjadi 40926 baris) dan sudah tidak ada nilai True pada kolom `video_error_or_removed`. Berhubung penghapusan baris telah berhasil dilakukan, maka kolom `video_error_or_removed` ini sudah tidak diperlukan lagi sehingga dapat dihapus."
   ]
  },
  {
   "cell_type": "code",
   "execution_count": 277,
   "metadata": {},
   "outputs": [],
   "source": [
    "df_cleaned = df_cleaned.drop('video_error_or_removed', axis = 1)"
   ]
  },
  {
   "cell_type": "code",
   "execution_count": 278,
   "metadata": {},
   "outputs": [],
   "source": [
    "#reset_index untuk memperbaiki angka index agar berurutan berhubung penghapusan baris baru selesai dilakukan\n",
    "df_cleaned = df_cleaned.reset_index(drop = True)"
   ]
  },
  {
   "cell_type": "code",
   "execution_count": 279,
   "metadata": {},
   "outputs": [
    {
     "name": "stdout",
     "output_type": "stream",
     "text": [
      "Duplicated in trending_date columns : 40744\n",
      "Duplicated in title columns : 34494\n",
      "Duplicated in channel_title columns : 38742\n",
      "Duplicated in category_id columns : 40933\n",
      "Duplicated in publish_time columns : 34680\n",
      "Duplicated in tags columns : 34894\n",
      "Duplicated in views columns : 471\n",
      "Duplicated in likes columns : 11099\n",
      "Duplicated in dislikes columns : 32433\n",
      "Duplicated in description columns : 34047\n"
     ]
    }
   ],
   "source": [
    "for i in df_cleaned.columns:\n",
    "    print(f\"Duplicated in {i} columns : {df[i].duplicated().sum()}\")"
   ]
  },
  {
   "attachments": {},
   "cell_type": "markdown",
   "metadata": {},
   "source": [
    "Dari semua kolom yang memiliki data duplikat ini, hal yang memerlukan perhatian lebih merupakan kolom `title` karena memang sewajarnya terdapat value yang sama untuk kolom lainnya. Kolom `title` ini sendiri perlu diperhatikan ketika melakukan analisis seperti jumlah views dalam video dengan judul tertentu, perlu diberikan sebuah perlakuan tambahan namun secara keseluruhan, **data duplikat ini dapat dipertahankan karena tidak akan mengganggu hasil analisa yang ada selama diberikan perlakuan yang tepat (tanpa menghapus data duplikat)**."
   ]
  },
  {
   "cell_type": "code",
   "execution_count": 280,
   "metadata": {},
   "outputs": [
    {
     "data": {
      "text/html": [
       "<div>\n",
       "<style scoped>\n",
       "    .dataframe tbody tr th:only-of-type {\n",
       "        vertical-align: middle;\n",
       "    }\n",
       "\n",
       "    .dataframe tbody tr th {\n",
       "        vertical-align: top;\n",
       "    }\n",
       "\n",
       "    .dataframe thead th {\n",
       "        text-align: right;\n",
       "    }\n",
       "</style>\n",
       "<table border=\"1\" class=\"dataframe\">\n",
       "  <thead>\n",
       "    <tr style=\"text-align: right;\">\n",
       "      <th></th>\n",
       "      <th>trending_date</th>\n",
       "      <th>title</th>\n",
       "      <th>channel_title</th>\n",
       "      <th>category_id</th>\n",
       "      <th>publish_time</th>\n",
       "      <th>tags</th>\n",
       "      <th>views</th>\n",
       "      <th>likes</th>\n",
       "      <th>dislikes</th>\n",
       "      <th>description</th>\n",
       "    </tr>\n",
       "  </thead>\n",
       "  <tbody>\n",
       "    <tr>\n",
       "      <th>40921</th>\n",
       "      <td>18.14.06</td>\n",
       "      <td>The Cat Who Caught the Laser</td>\n",
       "      <td>AaronsAnimals</td>\n",
       "      <td>15</td>\n",
       "      <td>2018-05-18T13:00:04.000Z</td>\n",
       "      <td>aarons animals|\"aarons\"|\"animals\"|\"cat\"|\"cats\"...</td>\n",
       "      <td>1685609</td>\n",
       "      <td>38160</td>\n",
       "      <td>1385</td>\n",
       "      <td>The Cat Who Caught the Laser - Aaron's Animals</td>\n",
       "    </tr>\n",
       "    <tr>\n",
       "      <th>40922</th>\n",
       "      <td>18.14.06</td>\n",
       "      <td>True Facts : Ant Mutualism</td>\n",
       "      <td>zefrank1</td>\n",
       "      <td>22</td>\n",
       "      <td>2018-05-18T01:00:06.000Z</td>\n",
       "      <td>[none]</td>\n",
       "      <td>1064798</td>\n",
       "      <td>60008</td>\n",
       "      <td>382</td>\n",
       "      <td>NaN</td>\n",
       "    </tr>\n",
       "    <tr>\n",
       "      <th>40923</th>\n",
       "      <td>18.14.06</td>\n",
       "      <td>I GAVE SAFIYA NYGAARD A PERFECT HAIR MAKEOVER ...</td>\n",
       "      <td>Brad Mondo</td>\n",
       "      <td>24</td>\n",
       "      <td>2018-05-18T17:34:22.000Z</td>\n",
       "      <td>I gave safiya nygaard a perfect hair makeover ...</td>\n",
       "      <td>1066451</td>\n",
       "      <td>48068</td>\n",
       "      <td>1032</td>\n",
       "      <td>I had so much fun transforming Safiyas hair in...</td>\n",
       "    </tr>\n",
       "    <tr>\n",
       "      <th>40924</th>\n",
       "      <td>18.14.06</td>\n",
       "      <td>How Black Panther Should Have Ended</td>\n",
       "      <td>How It Should Have Ended</td>\n",
       "      <td>1</td>\n",
       "      <td>2018-05-17T17:00:04.000Z</td>\n",
       "      <td>Black Panther|\"HISHE\"|\"Marvel\"|\"Infinity War\"|...</td>\n",
       "      <td>5660813</td>\n",
       "      <td>192957</td>\n",
       "      <td>2846</td>\n",
       "      <td>How Black Panther Should Have EndedWatch More ...</td>\n",
       "    </tr>\n",
       "    <tr>\n",
       "      <th>40925</th>\n",
       "      <td>18.14.06</td>\n",
       "      <td>Official Call of Duty®: Black Ops 4 — Multipla...</td>\n",
       "      <td>Call of Duty</td>\n",
       "      <td>20</td>\n",
       "      <td>2018-05-17T17:09:38.000Z</td>\n",
       "      <td>call of duty|\"cod\"|\"activision\"|\"Black Ops 4\"</td>\n",
       "      <td>10306119</td>\n",
       "      <td>357079</td>\n",
       "      <td>212976</td>\n",
       "      <td>Call of Duty: Black Ops 4 Multiplayer raises t...</td>\n",
       "    </tr>\n",
       "  </tbody>\n",
       "</table>\n",
       "</div>"
      ],
      "text/plain": [
       "      trending_date                                              title  \\\n",
       "40921      18.14.06                       The Cat Who Caught the Laser   \n",
       "40922      18.14.06                         True Facts : Ant Mutualism   \n",
       "40923      18.14.06  I GAVE SAFIYA NYGAARD A PERFECT HAIR MAKEOVER ...   \n",
       "40924      18.14.06                How Black Panther Should Have Ended   \n",
       "40925      18.14.06  Official Call of Duty®: Black Ops 4 — Multipla...   \n",
       "\n",
       "                  channel_title  category_id              publish_time  \\\n",
       "40921             AaronsAnimals           15  2018-05-18T13:00:04.000Z   \n",
       "40922                  zefrank1           22  2018-05-18T01:00:06.000Z   \n",
       "40923                Brad Mondo           24  2018-05-18T17:34:22.000Z   \n",
       "40924  How It Should Have Ended            1  2018-05-17T17:00:04.000Z   \n",
       "40925              Call of Duty           20  2018-05-17T17:09:38.000Z   \n",
       "\n",
       "                                                    tags     views   likes  \\\n",
       "40921  aarons animals|\"aarons\"|\"animals\"|\"cat\"|\"cats\"...   1685609   38160   \n",
       "40922                                             [none]   1064798   60008   \n",
       "40923  I gave safiya nygaard a perfect hair makeover ...   1066451   48068   \n",
       "40924  Black Panther|\"HISHE\"|\"Marvel\"|\"Infinity War\"|...   5660813  192957   \n",
       "40925      call of duty|\"cod\"|\"activision\"|\"Black Ops 4\"  10306119  357079   \n",
       "\n",
       "       dislikes                                        description  \n",
       "40921      1385     The Cat Who Caught the Laser - Aaron's Animals  \n",
       "40922       382                                                NaN  \n",
       "40923      1032  I had so much fun transforming Safiyas hair in...  \n",
       "40924      2846  How Black Panther Should Have EndedWatch More ...  \n",
       "40925    212976  Call of Duty: Black Ops 4 Multiplayer raises t...  "
      ]
     },
     "metadata": {},
     "output_type": "display_data"
    }
   ],
   "source": [
    "display(df_cleaned.tail())"
   ]
  },
  {
   "attachments": {},
   "cell_type": "markdown",
   "metadata": {},
   "source": [
    "# Penempatan Category Berdasarkan Category ID\n",
    "Untuk penempatan `category_id`, perlu diakses US_category_id.json dengan link yang telah dilampirkan diatas yakni [link ini](https://www.kaggle.com/datasets/datasnaek/youtube-new?sort=published). Langkah pertama yang perlu diambil adalah melakukan ekstraksi data dari US_category_id.json dimana hal ini akan dijabarkan dibawah."
   ]
  },
  {
   "cell_type": "code",
   "execution_count": 281,
   "metadata": {},
   "outputs": [],
   "source": [
    "category = pd.read_json('US_category_id.json')"
   ]
  },
  {
   "cell_type": "code",
   "execution_count": 282,
   "metadata": {},
   "outputs": [
    {
     "name": "stdout",
     "output_type": "stream",
     "text": [
      "1 Film & Animation\n",
      "2 Autos & Vehicles\n",
      "10 Music\n",
      "15 Pets & Animals\n",
      "17 Sports\n",
      "18 Short Movies\n",
      "19 Travel & Events\n",
      "20 Gaming\n",
      "21 Videoblogging\n",
      "22 People & Blogs\n",
      "23 Comedy\n",
      "24 Entertainment\n",
      "25 News & Politics\n",
      "26 Howto & Style\n",
      "27 Education\n",
      "28 Science & Technology\n",
      "29 Nonprofits & Activism\n",
      "30 Movies\n",
      "31 Anime/Animation\n",
      "32 Action/Adventure\n",
      "33 Classics\n",
      "34 Comedy\n",
      "35 Documentary\n",
      "36 Drama\n",
      "37 Family\n",
      "38 Foreign\n",
      "39 Horror\n",
      "40 Sci-Fi/Fantasy\n",
      "41 Thriller\n",
      "42 Shorts\n",
      "43 Shows\n",
      "44 Trailers\n"
     ]
    }
   ],
   "source": [
    "category_id = []\n",
    "category_title = []\n",
    "for i in category['items']:\n",
    "    print(i['id'], i['snippet']['title'])\n",
    "    category_id.append(i['id'])\n",
    "    category_title.append(i['snippet']['title'])\n",
    "\n",
    "category_id = pd.Series(category_id)\n",
    "category_title = pd.Series(category_title)"
   ]
  },
  {
   "cell_type": "code",
   "execution_count": 283,
   "metadata": {},
   "outputs": [],
   "source": [
    "dict_category = {'category_id':category_id, 'category':category_title}\n",
    "df_category = pd.DataFrame(data = dict_category)"
   ]
  },
  {
   "cell_type": "code",
   "execution_count": 284,
   "metadata": {},
   "outputs": [
    {
     "data": {
      "text/html": [
       "<div>\n",
       "<style scoped>\n",
       "    .dataframe tbody tr th:only-of-type {\n",
       "        vertical-align: middle;\n",
       "    }\n",
       "\n",
       "    .dataframe tbody tr th {\n",
       "        vertical-align: top;\n",
       "    }\n",
       "\n",
       "    .dataframe thead th {\n",
       "        text-align: right;\n",
       "    }\n",
       "</style>\n",
       "<table border=\"1\" class=\"dataframe\">\n",
       "  <thead>\n",
       "    <tr style=\"text-align: right;\">\n",
       "      <th></th>\n",
       "      <th>category_id</th>\n",
       "      <th>category</th>\n",
       "    </tr>\n",
       "  </thead>\n",
       "  <tbody>\n",
       "    <tr>\n",
       "      <th>0</th>\n",
       "      <td>1</td>\n",
       "      <td>Film &amp; Animation</td>\n",
       "    </tr>\n",
       "    <tr>\n",
       "      <th>1</th>\n",
       "      <td>2</td>\n",
       "      <td>Autos &amp; Vehicles</td>\n",
       "    </tr>\n",
       "    <tr>\n",
       "      <th>2</th>\n",
       "      <td>10</td>\n",
       "      <td>Music</td>\n",
       "    </tr>\n",
       "    <tr>\n",
       "      <th>3</th>\n",
       "      <td>15</td>\n",
       "      <td>Pets &amp; Animals</td>\n",
       "    </tr>\n",
       "    <tr>\n",
       "      <th>4</th>\n",
       "      <td>17</td>\n",
       "      <td>Sports</td>\n",
       "    </tr>\n",
       "    <tr>\n",
       "      <th>5</th>\n",
       "      <td>18</td>\n",
       "      <td>Short Movies</td>\n",
       "    </tr>\n",
       "    <tr>\n",
       "      <th>6</th>\n",
       "      <td>19</td>\n",
       "      <td>Travel &amp; Events</td>\n",
       "    </tr>\n",
       "    <tr>\n",
       "      <th>7</th>\n",
       "      <td>20</td>\n",
       "      <td>Gaming</td>\n",
       "    </tr>\n",
       "    <tr>\n",
       "      <th>8</th>\n",
       "      <td>21</td>\n",
       "      <td>Videoblogging</td>\n",
       "    </tr>\n",
       "    <tr>\n",
       "      <th>9</th>\n",
       "      <td>22</td>\n",
       "      <td>People &amp; Blogs</td>\n",
       "    </tr>\n",
       "    <tr>\n",
       "      <th>10</th>\n",
       "      <td>23</td>\n",
       "      <td>Comedy</td>\n",
       "    </tr>\n",
       "    <tr>\n",
       "      <th>11</th>\n",
       "      <td>24</td>\n",
       "      <td>Entertainment</td>\n",
       "    </tr>\n",
       "    <tr>\n",
       "      <th>12</th>\n",
       "      <td>25</td>\n",
       "      <td>News &amp; Politics</td>\n",
       "    </tr>\n",
       "    <tr>\n",
       "      <th>13</th>\n",
       "      <td>26</td>\n",
       "      <td>Howto &amp; Style</td>\n",
       "    </tr>\n",
       "    <tr>\n",
       "      <th>14</th>\n",
       "      <td>27</td>\n",
       "      <td>Education</td>\n",
       "    </tr>\n",
       "    <tr>\n",
       "      <th>15</th>\n",
       "      <td>28</td>\n",
       "      <td>Science &amp; Technology</td>\n",
       "    </tr>\n",
       "    <tr>\n",
       "      <th>16</th>\n",
       "      <td>29</td>\n",
       "      <td>Nonprofits &amp; Activism</td>\n",
       "    </tr>\n",
       "    <tr>\n",
       "      <th>17</th>\n",
       "      <td>30</td>\n",
       "      <td>Movies</td>\n",
       "    </tr>\n",
       "    <tr>\n",
       "      <th>18</th>\n",
       "      <td>31</td>\n",
       "      <td>Anime/Animation</td>\n",
       "    </tr>\n",
       "    <tr>\n",
       "      <th>19</th>\n",
       "      <td>32</td>\n",
       "      <td>Action/Adventure</td>\n",
       "    </tr>\n",
       "    <tr>\n",
       "      <th>20</th>\n",
       "      <td>33</td>\n",
       "      <td>Classics</td>\n",
       "    </tr>\n",
       "    <tr>\n",
       "      <th>21</th>\n",
       "      <td>34</td>\n",
       "      <td>Comedy</td>\n",
       "    </tr>\n",
       "    <tr>\n",
       "      <th>22</th>\n",
       "      <td>35</td>\n",
       "      <td>Documentary</td>\n",
       "    </tr>\n",
       "    <tr>\n",
       "      <th>23</th>\n",
       "      <td>36</td>\n",
       "      <td>Drama</td>\n",
       "    </tr>\n",
       "    <tr>\n",
       "      <th>24</th>\n",
       "      <td>37</td>\n",
       "      <td>Family</td>\n",
       "    </tr>\n",
       "    <tr>\n",
       "      <th>25</th>\n",
       "      <td>38</td>\n",
       "      <td>Foreign</td>\n",
       "    </tr>\n",
       "    <tr>\n",
       "      <th>26</th>\n",
       "      <td>39</td>\n",
       "      <td>Horror</td>\n",
       "    </tr>\n",
       "    <tr>\n",
       "      <th>27</th>\n",
       "      <td>40</td>\n",
       "      <td>Sci-Fi/Fantasy</td>\n",
       "    </tr>\n",
       "    <tr>\n",
       "      <th>28</th>\n",
       "      <td>41</td>\n",
       "      <td>Thriller</td>\n",
       "    </tr>\n",
       "    <tr>\n",
       "      <th>29</th>\n",
       "      <td>42</td>\n",
       "      <td>Shorts</td>\n",
       "    </tr>\n",
       "    <tr>\n",
       "      <th>30</th>\n",
       "      <td>43</td>\n",
       "      <td>Shows</td>\n",
       "    </tr>\n",
       "    <tr>\n",
       "      <th>31</th>\n",
       "      <td>44</td>\n",
       "      <td>Trailers</td>\n",
       "    </tr>\n",
       "  </tbody>\n",
       "</table>\n",
       "</div>"
      ],
      "text/plain": [
       "   category_id               category\n",
       "0            1       Film & Animation\n",
       "1            2       Autos & Vehicles\n",
       "2           10                  Music\n",
       "3           15         Pets & Animals\n",
       "4           17                 Sports\n",
       "5           18           Short Movies\n",
       "6           19        Travel & Events\n",
       "7           20                 Gaming\n",
       "8           21          Videoblogging\n",
       "9           22         People & Blogs\n",
       "10          23                 Comedy\n",
       "11          24          Entertainment\n",
       "12          25        News & Politics\n",
       "13          26          Howto & Style\n",
       "14          27              Education\n",
       "15          28   Science & Technology\n",
       "16          29  Nonprofits & Activism\n",
       "17          30                 Movies\n",
       "18          31        Anime/Animation\n",
       "19          32       Action/Adventure\n",
       "20          33               Classics\n",
       "21          34                 Comedy\n",
       "22          35            Documentary\n",
       "23          36                  Drama\n",
       "24          37                 Family\n",
       "25          38                Foreign\n",
       "26          39                 Horror\n",
       "27          40         Sci-Fi/Fantasy\n",
       "28          41               Thriller\n",
       "29          42                 Shorts\n",
       "30          43                  Shows\n",
       "31          44               Trailers"
      ]
     },
     "execution_count": 284,
     "metadata": {},
     "output_type": "execute_result"
    }
   ],
   "source": [
    "df_category"
   ]
  },
  {
   "attachments": {},
   "cell_type": "markdown",
   "metadata": {},
   "source": [
    "Ekstraksi data telah berhasil dilakukan dan telah dibuat dataframe untuk menampung nama kategori berdasarkan id dari kategori tersebut. Langkah berikutnya adalah untuk melakukan penempatan pada `df_cleaned` untuk nama dari kategori berdasarkan id dari kategori tersebut."
   ]
  },
  {
   "cell_type": "code",
   "execution_count": 285,
   "metadata": {},
   "outputs": [
    {
     "name": "stdout",
     "output_type": "stream",
     "text": [
      "<class 'pandas.core.frame.DataFrame'>\n",
      "RangeIndex: 40926 entries, 0 to 40925\n",
      "Data columns (total 10 columns):\n",
      " #   Column         Non-Null Count  Dtype \n",
      "---  ------         --------------  ----- \n",
      " 0   trending_date  40926 non-null  object\n",
      " 1   title          40926 non-null  object\n",
      " 2   channel_title  40926 non-null  object\n",
      " 3   category_id    40926 non-null  int64 \n",
      " 4   publish_time   40926 non-null  object\n",
      " 5   tags           40926 non-null  object\n",
      " 6   views          40926 non-null  int64 \n",
      " 7   likes          40926 non-null  int64 \n",
      " 8   dislikes       40926 non-null  int64 \n",
      " 9   description    40358 non-null  object\n",
      "dtypes: int64(4), object(6)\n",
      "memory usage: 3.1+ MB\n"
     ]
    }
   ],
   "source": [
    "df_cleaned.info()"
   ]
  },
  {
   "cell_type": "code",
   "execution_count": 286,
   "metadata": {},
   "outputs": [
    {
     "name": "stdout",
     "output_type": "stream",
     "text": [
      "<class 'pandas.core.frame.DataFrame'>\n",
      "RangeIndex: 32 entries, 0 to 31\n",
      "Data columns (total 2 columns):\n",
      " #   Column       Non-Null Count  Dtype \n",
      "---  ------       --------------  ----- \n",
      " 0   category_id  32 non-null     object\n",
      " 1   category     32 non-null     object\n",
      "dtypes: object(2)\n",
      "memory usage: 640.0+ bytes\n"
     ]
    }
   ],
   "source": [
    "df_category.info()"
   ]
  },
  {
   "attachments": {},
   "cell_type": "markdown",
   "metadata": {},
   "source": [
    "Terlihat bahwa `category_id` pada df_cleaned dan df_category memiliki tipe yang berbeda yakni object dan int64 sehingga perlu disamakan terlebih dahulu untuk dilakukan penempatan."
   ]
  },
  {
   "cell_type": "code",
   "execution_count": 287,
   "metadata": {},
   "outputs": [],
   "source": [
    "df_category['category_id'] = df_category['category_id'].astype('int64')"
   ]
  },
  {
   "cell_type": "code",
   "execution_count": 288,
   "metadata": {},
   "outputs": [],
   "source": [
    "df_cleaned = pd.merge(df_cleaned, df_category, on = 'category_id')"
   ]
  },
  {
   "cell_type": "code",
   "execution_count": 289,
   "metadata": {},
   "outputs": [
    {
     "data": {
      "text/html": [
       "<div>\n",
       "<style scoped>\n",
       "    .dataframe tbody tr th:only-of-type {\n",
       "        vertical-align: middle;\n",
       "    }\n",
       "\n",
       "    .dataframe tbody tr th {\n",
       "        vertical-align: top;\n",
       "    }\n",
       "\n",
       "    .dataframe thead th {\n",
       "        text-align: right;\n",
       "    }\n",
       "</style>\n",
       "<table border=\"1\" class=\"dataframe\">\n",
       "  <thead>\n",
       "    <tr style=\"text-align: right;\">\n",
       "      <th></th>\n",
       "      <th>trending_date</th>\n",
       "      <th>title</th>\n",
       "      <th>channel_title</th>\n",
       "      <th>category_id</th>\n",
       "      <th>publish_time</th>\n",
       "      <th>tags</th>\n",
       "      <th>views</th>\n",
       "      <th>likes</th>\n",
       "      <th>dislikes</th>\n",
       "      <th>description</th>\n",
       "      <th>category</th>\n",
       "    </tr>\n",
       "  </thead>\n",
       "  <tbody>\n",
       "    <tr>\n",
       "      <th>0</th>\n",
       "      <td>17.14.11</td>\n",
       "      <td>WE WANT TO TALK ABOUT OUR MARRIAGE</td>\n",
       "      <td>CaseyNeistat</td>\n",
       "      <td>22</td>\n",
       "      <td>2017-11-13T17:13:01.000Z</td>\n",
       "      <td>SHANtell martin</td>\n",
       "      <td>748374</td>\n",
       "      <td>57527</td>\n",
       "      <td>2966</td>\n",
       "      <td>SHANTELL'S CHANNEL - https://www.youtube.com/s...</td>\n",
       "      <td>People &amp; Blogs</td>\n",
       "    </tr>\n",
       "    <tr>\n",
       "      <th>1</th>\n",
       "      <td>17.14.11</td>\n",
       "      <td>Me-O Cats Commercial</td>\n",
       "      <td>Nobrand</td>\n",
       "      <td>22</td>\n",
       "      <td>2017-04-21T06:47:32.000Z</td>\n",
       "      <td>cute|\"cats\"|\"thai\"|\"eggs\"</td>\n",
       "      <td>98966</td>\n",
       "      <td>2486</td>\n",
       "      <td>184</td>\n",
       "      <td>Kittens come out of the eggs in a Thai commerc...</td>\n",
       "      <td>People &amp; Blogs</td>\n",
       "    </tr>\n",
       "    <tr>\n",
       "      <th>2</th>\n",
       "      <td>17.14.11</td>\n",
       "      <td>AFFAIRS, EX BOYFRIENDS, $18MILLION NET WORTH -...</td>\n",
       "      <td>Shawn Johnson East</td>\n",
       "      <td>22</td>\n",
       "      <td>2017-11-11T15:00:03.000Z</td>\n",
       "      <td>shawn johnson|\"andrew east\"|\"shawn east\"|\"shaw...</td>\n",
       "      <td>321053</td>\n",
       "      <td>4451</td>\n",
       "      <td>1772</td>\n",
       "      <td>Subscribe for weekly videos ▶ http://bit.ly/sj...</td>\n",
       "      <td>People &amp; Blogs</td>\n",
       "    </tr>\n",
       "    <tr>\n",
       "      <th>3</th>\n",
       "      <td>17.14.11</td>\n",
       "      <td>BLIND(folded) CAKE DECORATING CONTEST (with Mo...</td>\n",
       "      <td>Grace Helbig</td>\n",
       "      <td>22</td>\n",
       "      <td>2017-11-11T18:08:04.000Z</td>\n",
       "      <td>itsgrace|\"funny\"|\"comedy\"|\"vlog\"|\"grace\"|\"helb...</td>\n",
       "      <td>197062</td>\n",
       "      <td>7250</td>\n",
       "      <td>217</td>\n",
       "      <td>Molly is an god damn amazing human and she cha...</td>\n",
       "      <td>People &amp; Blogs</td>\n",
       "    </tr>\n",
       "    <tr>\n",
       "      <th>4</th>\n",
       "      <td>17.14.11</td>\n",
       "      <td>Wearing Online Dollar Store Makeup For A Week</td>\n",
       "      <td>Safiya Nygaard</td>\n",
       "      <td>22</td>\n",
       "      <td>2017-11-11T01:19:33.000Z</td>\n",
       "      <td>wearing online dollar store makeup for a week|...</td>\n",
       "      <td>2744430</td>\n",
       "      <td>115426</td>\n",
       "      <td>1110</td>\n",
       "      <td>I found this online dollar store called ShopMi...</td>\n",
       "      <td>People &amp; Blogs</td>\n",
       "    </tr>\n",
       "  </tbody>\n",
       "</table>\n",
       "</div>"
      ],
      "text/plain": [
       "  trending_date                                              title  \\\n",
       "0      17.14.11                 WE WANT TO TALK ABOUT OUR MARRIAGE   \n",
       "1      17.14.11                               Me-O Cats Commercial   \n",
       "2      17.14.11  AFFAIRS, EX BOYFRIENDS, $18MILLION NET WORTH -...   \n",
       "3      17.14.11  BLIND(folded) CAKE DECORATING CONTEST (with Mo...   \n",
       "4      17.14.11      Wearing Online Dollar Store Makeup For A Week   \n",
       "\n",
       "        channel_title  category_id              publish_time  \\\n",
       "0        CaseyNeistat           22  2017-11-13T17:13:01.000Z   \n",
       "1             Nobrand           22  2017-04-21T06:47:32.000Z   \n",
       "2  Shawn Johnson East           22  2017-11-11T15:00:03.000Z   \n",
       "3        Grace Helbig           22  2017-11-11T18:08:04.000Z   \n",
       "4      Safiya Nygaard           22  2017-11-11T01:19:33.000Z   \n",
       "\n",
       "                                                tags    views   likes  \\\n",
       "0                                    SHANtell martin   748374   57527   \n",
       "1                          cute|\"cats\"|\"thai\"|\"eggs\"    98966    2486   \n",
       "2  shawn johnson|\"andrew east\"|\"shawn east\"|\"shaw...   321053    4451   \n",
       "3  itsgrace|\"funny\"|\"comedy\"|\"vlog\"|\"grace\"|\"helb...   197062    7250   \n",
       "4  wearing online dollar store makeup for a week|...  2744430  115426   \n",
       "\n",
       "   dislikes                                        description        category  \n",
       "0      2966  SHANTELL'S CHANNEL - https://www.youtube.com/s...  People & Blogs  \n",
       "1       184  Kittens come out of the eggs in a Thai commerc...  People & Blogs  \n",
       "2      1772  Subscribe for weekly videos ▶ http://bit.ly/sj...  People & Blogs  \n",
       "3       217  Molly is an god damn amazing human and she cha...  People & Blogs  \n",
       "4      1110  I found this online dollar store called ShopMi...  People & Blogs  "
      ]
     },
     "execution_count": 289,
     "metadata": {},
     "output_type": "execute_result"
    }
   ],
   "source": [
    "df_cleaned.head()"
   ]
  },
  {
   "cell_type": "code",
   "execution_count": 290,
   "metadata": {},
   "outputs": [
    {
     "name": "stdout",
     "output_type": "stream",
     "text": [
      "Number Of Uniques category : 16\n",
      "Number Of Uniques category_id : 16\n"
     ]
    }
   ],
   "source": [
    "print(f\"Number Of Uniques category : {df_cleaned['category'].nunique()}\")\n",
    "print(f\"Number Of Uniques category_id : {df_cleaned['category_id'].nunique()}\")"
   ]
  },
  {
   "attachments": {},
   "cell_type": "markdown",
   "metadata": {},
   "source": [
    "Dapat dilihat bahwa penempatan telah berhasil dilakukan dan validasi dilakukan dengan memperlihatkan number of unique dimana ditemukan number of uniques dari `category` dan `category_id` menghasilkan nilai yang sama sehingga dari hal ini, penempatan telah divalidasi sehingga kolom `category_id` dapat dihapus karena tidak dibutuhkan lagi."
   ]
  },
  {
   "cell_type": "code",
   "execution_count": 291,
   "metadata": {},
   "outputs": [],
   "source": [
    "df_cleaned = df_cleaned.drop('category_id', axis = 1)"
   ]
  },
  {
   "cell_type": "code",
   "execution_count": 292,
   "metadata": {},
   "outputs": [
    {
     "data": {
      "text/plain": [
       "Index(['trending_date', 'title', 'channel_title', 'publish_time', 'tags',\n",
       "       'views', 'likes', 'dislikes', 'description', 'category'],\n",
       "      dtype='object')"
      ]
     },
     "execution_count": 292,
     "metadata": {},
     "output_type": "execute_result"
    }
   ],
   "source": [
    "df_cleaned.columns"
   ]
  },
  {
   "attachments": {},
   "cell_type": "markdown",
   "metadata": {},
   "source": [
    "# Penyamaan format trending_date dan publish_time\n",
    "Penyamaan format ini berfungsi untuk mencari berapa lama waktu yang dibutuhkan dari video tersebut untuk trending dan memberikan insight tambahan untuk content creator agar dapat mengestimasi berapa lama waktu yang sekiranya dibutuhkan dari suatu video untuk trending"
   ]
  },
  {
   "cell_type": "code",
   "execution_count": 293,
   "metadata": {},
   "outputs": [
    {
     "data": {
      "text/html": [
       "<div>\n",
       "<style scoped>\n",
       "    .dataframe tbody tr th:only-of-type {\n",
       "        vertical-align: middle;\n",
       "    }\n",
       "\n",
       "    .dataframe tbody tr th {\n",
       "        vertical-align: top;\n",
       "    }\n",
       "\n",
       "    .dataframe thead th {\n",
       "        text-align: right;\n",
       "    }\n",
       "</style>\n",
       "<table border=\"1\" class=\"dataframe\">\n",
       "  <thead>\n",
       "    <tr style=\"text-align: right;\">\n",
       "      <th></th>\n",
       "      <th>trending_date</th>\n",
       "      <th>publish_time</th>\n",
       "    </tr>\n",
       "  </thead>\n",
       "  <tbody>\n",
       "    <tr>\n",
       "      <th>0</th>\n",
       "      <td>17.14.11</td>\n",
       "      <td>2017-11-13T17:13:01.000Z</td>\n",
       "    </tr>\n",
       "    <tr>\n",
       "      <th>1</th>\n",
       "      <td>17.14.11</td>\n",
       "      <td>2017-04-21T06:47:32.000Z</td>\n",
       "    </tr>\n",
       "    <tr>\n",
       "      <th>2</th>\n",
       "      <td>17.14.11</td>\n",
       "      <td>2017-11-11T15:00:03.000Z</td>\n",
       "    </tr>\n",
       "    <tr>\n",
       "      <th>3</th>\n",
       "      <td>17.14.11</td>\n",
       "      <td>2017-11-11T18:08:04.000Z</td>\n",
       "    </tr>\n",
       "    <tr>\n",
       "      <th>4</th>\n",
       "      <td>17.14.11</td>\n",
       "      <td>2017-11-11T01:19:33.000Z</td>\n",
       "    </tr>\n",
       "    <tr>\n",
       "      <th>...</th>\n",
       "      <td>...</td>\n",
       "      <td>...</td>\n",
       "    </tr>\n",
       "    <tr>\n",
       "      <th>40921</th>\n",
       "      <td>18.02.06</td>\n",
       "      <td>2018-05-10T21:01:22.000Z</td>\n",
       "    </tr>\n",
       "    <tr>\n",
       "      <th>40922</th>\n",
       "      <td>18.03.06</td>\n",
       "      <td>2018-05-10T21:01:22.000Z</td>\n",
       "    </tr>\n",
       "    <tr>\n",
       "      <th>40923</th>\n",
       "      <td>18.04.06</td>\n",
       "      <td>2018-05-10T21:01:22.000Z</td>\n",
       "    </tr>\n",
       "    <tr>\n",
       "      <th>40924</th>\n",
       "      <td>18.05.06</td>\n",
       "      <td>2018-05-10T21:01:22.000Z</td>\n",
       "    </tr>\n",
       "    <tr>\n",
       "      <th>40925</th>\n",
       "      <td>18.06.06</td>\n",
       "      <td>2018-05-10T21:01:22.000Z</td>\n",
       "    </tr>\n",
       "  </tbody>\n",
       "</table>\n",
       "<p>40926 rows × 2 columns</p>\n",
       "</div>"
      ],
      "text/plain": [
       "      trending_date              publish_time\n",
       "0          17.14.11  2017-11-13T17:13:01.000Z\n",
       "1          17.14.11  2017-04-21T06:47:32.000Z\n",
       "2          17.14.11  2017-11-11T15:00:03.000Z\n",
       "3          17.14.11  2017-11-11T18:08:04.000Z\n",
       "4          17.14.11  2017-11-11T01:19:33.000Z\n",
       "...             ...                       ...\n",
       "40921      18.02.06  2018-05-10T21:01:22.000Z\n",
       "40922      18.03.06  2018-05-10T21:01:22.000Z\n",
       "40923      18.04.06  2018-05-10T21:01:22.000Z\n",
       "40924      18.05.06  2018-05-10T21:01:22.000Z\n",
       "40925      18.06.06  2018-05-10T21:01:22.000Z\n",
       "\n",
       "[40926 rows x 2 columns]"
      ]
     },
     "execution_count": 293,
     "metadata": {},
     "output_type": "execute_result"
    }
   ],
   "source": [
    "df_cleaned[['trending_date', 'publish_time']]"
   ]
  },
  {
   "cell_type": "code",
   "execution_count": 294,
   "metadata": {},
   "outputs": [],
   "source": [
    "from datetime import datetime"
   ]
  },
  {
   "cell_type": "code",
   "execution_count": 295,
   "metadata": {},
   "outputs": [],
   "source": [
    "trending_date = []\n",
    "for i in df_cleaned['trending_date']:\n",
    "    trending_date.append(i)"
   ]
  },
  {
   "cell_type": "code",
   "execution_count": 296,
   "metadata": {},
   "outputs": [],
   "source": [
    "for i in range(len(trending_date)):\n",
    "    parsed_trending_date = datetime.strptime(trending_date[i], '%y.%d.%m')\n",
    "    formatted_trending_date = parsed_trending_date.strftime('%Y-%m-%d')\n",
    "    trending_date[i] = formatted_trending_date"
   ]
  },
  {
   "cell_type": "code",
   "execution_count": 297,
   "metadata": {},
   "outputs": [],
   "source": [
    "df_cleaned['trending_date'] = trending_date"
   ]
  },
  {
   "cell_type": "code",
   "execution_count": 298,
   "metadata": {},
   "outputs": [
    {
     "data": {
      "text/plain": [
       "0        2017-11-14\n",
       "1        2017-11-14\n",
       "2        2017-11-14\n",
       "3        2017-11-14\n",
       "4        2017-11-14\n",
       "            ...    \n",
       "40921    2018-06-02\n",
       "40922    2018-06-03\n",
       "40923    2018-06-04\n",
       "40924    2018-06-05\n",
       "40925    2018-06-06\n",
       "Name: trending_date, Length: 40926, dtype: object"
      ]
     },
     "execution_count": 298,
     "metadata": {},
     "output_type": "execute_result"
    }
   ],
   "source": [
    "df_cleaned['trending_date']"
   ]
  },
  {
   "cell_type": "code",
   "execution_count": 299,
   "metadata": {},
   "outputs": [],
   "source": [
    "publish_time = []\n",
    "for i in df_cleaned['publish_time']:\n",
    "    publish_time.append(i)"
   ]
  },
  {
   "cell_type": "code",
   "execution_count": 300,
   "metadata": {},
   "outputs": [],
   "source": [
    "for i in range(len(publish_time)):\n",
    "    parsed_publish_time = datetime.strptime(publish_time[i], '%Y-%m-%dT%H:%M:%S.%fZ')\n",
    "    formatted_publish_time = parsed_publish_time.strftime('%Y-%m-%d')\n",
    "    publish_time[i] = formatted_publish_time"
   ]
  },
  {
   "cell_type": "code",
   "execution_count": 301,
   "metadata": {},
   "outputs": [],
   "source": [
    "df_cleaned['publish_time'] = publish_time"
   ]
  },
  {
   "cell_type": "code",
   "execution_count": 302,
   "metadata": {},
   "outputs": [
    {
     "data": {
      "text/plain": [
       "0        2017-11-13\n",
       "1        2017-04-21\n",
       "2        2017-11-11\n",
       "3        2017-11-11\n",
       "4        2017-11-11\n",
       "            ...    \n",
       "40921    2018-05-10\n",
       "40922    2018-05-10\n",
       "40923    2018-05-10\n",
       "40924    2018-05-10\n",
       "40925    2018-05-10\n",
       "Name: publish_time, Length: 40926, dtype: object"
      ]
     },
     "execution_count": 302,
     "metadata": {},
     "output_type": "execute_result"
    }
   ],
   "source": [
    "df_cleaned['publish_time']"
   ]
  },
  {
   "cell_type": "code",
   "execution_count": 303,
   "metadata": {},
   "outputs": [
    {
     "data": {
      "text/html": [
       "<div>\n",
       "<style scoped>\n",
       "    .dataframe tbody tr th:only-of-type {\n",
       "        vertical-align: middle;\n",
       "    }\n",
       "\n",
       "    .dataframe tbody tr th {\n",
       "        vertical-align: top;\n",
       "    }\n",
       "\n",
       "    .dataframe thead th {\n",
       "        text-align: right;\n",
       "    }\n",
       "</style>\n",
       "<table border=\"1\" class=\"dataframe\">\n",
       "  <thead>\n",
       "    <tr style=\"text-align: right;\">\n",
       "      <th></th>\n",
       "      <th>trending_date</th>\n",
       "      <th>title</th>\n",
       "      <th>channel_title</th>\n",
       "      <th>publish_time</th>\n",
       "      <th>tags</th>\n",
       "      <th>views</th>\n",
       "      <th>likes</th>\n",
       "      <th>dislikes</th>\n",
       "      <th>description</th>\n",
       "      <th>category</th>\n",
       "    </tr>\n",
       "  </thead>\n",
       "  <tbody>\n",
       "    <tr>\n",
       "      <th>0</th>\n",
       "      <td>2017-11-14</td>\n",
       "      <td>WE WANT TO TALK ABOUT OUR MARRIAGE</td>\n",
       "      <td>CaseyNeistat</td>\n",
       "      <td>2017-11-13</td>\n",
       "      <td>SHANtell martin</td>\n",
       "      <td>748374</td>\n",
       "      <td>57527</td>\n",
       "      <td>2966</td>\n",
       "      <td>SHANTELL'S CHANNEL - https://www.youtube.com/s...</td>\n",
       "      <td>People &amp; Blogs</td>\n",
       "    </tr>\n",
       "    <tr>\n",
       "      <th>1</th>\n",
       "      <td>2017-11-14</td>\n",
       "      <td>Me-O Cats Commercial</td>\n",
       "      <td>Nobrand</td>\n",
       "      <td>2017-04-21</td>\n",
       "      <td>cute|\"cats\"|\"thai\"|\"eggs\"</td>\n",
       "      <td>98966</td>\n",
       "      <td>2486</td>\n",
       "      <td>184</td>\n",
       "      <td>Kittens come out of the eggs in a Thai commerc...</td>\n",
       "      <td>People &amp; Blogs</td>\n",
       "    </tr>\n",
       "    <tr>\n",
       "      <th>2</th>\n",
       "      <td>2017-11-14</td>\n",
       "      <td>AFFAIRS, EX BOYFRIENDS, $18MILLION NET WORTH -...</td>\n",
       "      <td>Shawn Johnson East</td>\n",
       "      <td>2017-11-11</td>\n",
       "      <td>shawn johnson|\"andrew east\"|\"shawn east\"|\"shaw...</td>\n",
       "      <td>321053</td>\n",
       "      <td>4451</td>\n",
       "      <td>1772</td>\n",
       "      <td>Subscribe for weekly videos ▶ http://bit.ly/sj...</td>\n",
       "      <td>People &amp; Blogs</td>\n",
       "    </tr>\n",
       "    <tr>\n",
       "      <th>3</th>\n",
       "      <td>2017-11-14</td>\n",
       "      <td>BLIND(folded) CAKE DECORATING CONTEST (with Mo...</td>\n",
       "      <td>Grace Helbig</td>\n",
       "      <td>2017-11-11</td>\n",
       "      <td>itsgrace|\"funny\"|\"comedy\"|\"vlog\"|\"grace\"|\"helb...</td>\n",
       "      <td>197062</td>\n",
       "      <td>7250</td>\n",
       "      <td>217</td>\n",
       "      <td>Molly is an god damn amazing human and she cha...</td>\n",
       "      <td>People &amp; Blogs</td>\n",
       "    </tr>\n",
       "    <tr>\n",
       "      <th>4</th>\n",
       "      <td>2017-11-14</td>\n",
       "      <td>Wearing Online Dollar Store Makeup For A Week</td>\n",
       "      <td>Safiya Nygaard</td>\n",
       "      <td>2017-11-11</td>\n",
       "      <td>wearing online dollar store makeup for a week|...</td>\n",
       "      <td>2744430</td>\n",
       "      <td>115426</td>\n",
       "      <td>1110</td>\n",
       "      <td>I found this online dollar store called ShopMi...</td>\n",
       "      <td>People &amp; Blogs</td>\n",
       "    </tr>\n",
       "  </tbody>\n",
       "</table>\n",
       "</div>"
      ],
      "text/plain": [
       "  trending_date                                              title  \\\n",
       "0    2017-11-14                 WE WANT TO TALK ABOUT OUR MARRIAGE   \n",
       "1    2017-11-14                               Me-O Cats Commercial   \n",
       "2    2017-11-14  AFFAIRS, EX BOYFRIENDS, $18MILLION NET WORTH -...   \n",
       "3    2017-11-14  BLIND(folded) CAKE DECORATING CONTEST (with Mo...   \n",
       "4    2017-11-14      Wearing Online Dollar Store Makeup For A Week   \n",
       "\n",
       "        channel_title publish_time  \\\n",
       "0        CaseyNeistat   2017-11-13   \n",
       "1             Nobrand   2017-04-21   \n",
       "2  Shawn Johnson East   2017-11-11   \n",
       "3        Grace Helbig   2017-11-11   \n",
       "4      Safiya Nygaard   2017-11-11   \n",
       "\n",
       "                                                tags    views   likes  \\\n",
       "0                                    SHANtell martin   748374   57527   \n",
       "1                          cute|\"cats\"|\"thai\"|\"eggs\"    98966    2486   \n",
       "2  shawn johnson|\"andrew east\"|\"shawn east\"|\"shaw...   321053    4451   \n",
       "3  itsgrace|\"funny\"|\"comedy\"|\"vlog\"|\"grace\"|\"helb...   197062    7250   \n",
       "4  wearing online dollar store makeup for a week|...  2744430  115426   \n",
       "\n",
       "   dislikes                                        description        category  \n",
       "0      2966  SHANTELL'S CHANNEL - https://www.youtube.com/s...  People & Blogs  \n",
       "1       184  Kittens come out of the eggs in a Thai commerc...  People & Blogs  \n",
       "2      1772  Subscribe for weekly videos ▶ http://bit.ly/sj...  People & Blogs  \n",
       "3       217  Molly is an god damn amazing human and she cha...  People & Blogs  \n",
       "4      1110  I found this online dollar store called ShopMi...  People & Blogs  "
      ]
     },
     "execution_count": 303,
     "metadata": {},
     "output_type": "execute_result"
    }
   ],
   "source": [
    "df_cleaned.head()"
   ]
  },
  {
   "attachments": {},
   "cell_type": "markdown",
   "metadata": {},
   "source": [
    "# Data Analysis\n",
    "Dalam melakukan analisis pertama dilengkapi tabel ini tersebut dengan menambahkan kolom baru yakni `time_needed_for_trending` dimana kolom ini berisi mengenai lama waktu yang dibutuhkan untuk suatu video dari di-publish sampai menjadi trending."
   ]
  },
  {
   "cell_type": "code",
   "execution_count": 304,
   "metadata": {},
   "outputs": [],
   "source": [
    "A = pd.to_datetime(df_cleaned['trending_date'])\n",
    "B = pd.to_datetime(df_cleaned['publish_time'])"
   ]
  },
  {
   "cell_type": "code",
   "execution_count": 305,
   "metadata": {},
   "outputs": [],
   "source": [
    "df_cleaned['time_needed_for_trending'] = A - B"
   ]
  },
  {
   "cell_type": "code",
   "execution_count": 306,
   "metadata": {},
   "outputs": [
    {
     "data": {
      "text/html": [
       "<div>\n",
       "<style scoped>\n",
       "    .dataframe tbody tr th:only-of-type {\n",
       "        vertical-align: middle;\n",
       "    }\n",
       "\n",
       "    .dataframe tbody tr th {\n",
       "        vertical-align: top;\n",
       "    }\n",
       "\n",
       "    .dataframe thead th {\n",
       "        text-align: right;\n",
       "    }\n",
       "</style>\n",
       "<table border=\"1\" class=\"dataframe\">\n",
       "  <thead>\n",
       "    <tr style=\"text-align: right;\">\n",
       "      <th></th>\n",
       "      <th>trending_date</th>\n",
       "      <th>title</th>\n",
       "      <th>channel_title</th>\n",
       "      <th>publish_time</th>\n",
       "      <th>tags</th>\n",
       "      <th>views</th>\n",
       "      <th>likes</th>\n",
       "      <th>dislikes</th>\n",
       "      <th>description</th>\n",
       "      <th>category</th>\n",
       "      <th>time_needed_for_trending</th>\n",
       "    </tr>\n",
       "  </thead>\n",
       "  <tbody>\n",
       "    <tr>\n",
       "      <th>0</th>\n",
       "      <td>2017-11-14</td>\n",
       "      <td>WE WANT TO TALK ABOUT OUR MARRIAGE</td>\n",
       "      <td>CaseyNeistat</td>\n",
       "      <td>2017-11-13</td>\n",
       "      <td>SHANtell martin</td>\n",
       "      <td>748374</td>\n",
       "      <td>57527</td>\n",
       "      <td>2966</td>\n",
       "      <td>SHANTELL'S CHANNEL - https://www.youtube.com/s...</td>\n",
       "      <td>People &amp; Blogs</td>\n",
       "      <td>1 days</td>\n",
       "    </tr>\n",
       "    <tr>\n",
       "      <th>1</th>\n",
       "      <td>2017-11-14</td>\n",
       "      <td>Me-O Cats Commercial</td>\n",
       "      <td>Nobrand</td>\n",
       "      <td>2017-04-21</td>\n",
       "      <td>cute|\"cats\"|\"thai\"|\"eggs\"</td>\n",
       "      <td>98966</td>\n",
       "      <td>2486</td>\n",
       "      <td>184</td>\n",
       "      <td>Kittens come out of the eggs in a Thai commerc...</td>\n",
       "      <td>People &amp; Blogs</td>\n",
       "      <td>207 days</td>\n",
       "    </tr>\n",
       "    <tr>\n",
       "      <th>2</th>\n",
       "      <td>2017-11-14</td>\n",
       "      <td>AFFAIRS, EX BOYFRIENDS, $18MILLION NET WORTH -...</td>\n",
       "      <td>Shawn Johnson East</td>\n",
       "      <td>2017-11-11</td>\n",
       "      <td>shawn johnson|\"andrew east\"|\"shawn east\"|\"shaw...</td>\n",
       "      <td>321053</td>\n",
       "      <td>4451</td>\n",
       "      <td>1772</td>\n",
       "      <td>Subscribe for weekly videos ▶ http://bit.ly/sj...</td>\n",
       "      <td>People &amp; Blogs</td>\n",
       "      <td>3 days</td>\n",
       "    </tr>\n",
       "    <tr>\n",
       "      <th>3</th>\n",
       "      <td>2017-11-14</td>\n",
       "      <td>BLIND(folded) CAKE DECORATING CONTEST (with Mo...</td>\n",
       "      <td>Grace Helbig</td>\n",
       "      <td>2017-11-11</td>\n",
       "      <td>itsgrace|\"funny\"|\"comedy\"|\"vlog\"|\"grace\"|\"helb...</td>\n",
       "      <td>197062</td>\n",
       "      <td>7250</td>\n",
       "      <td>217</td>\n",
       "      <td>Molly is an god damn amazing human and she cha...</td>\n",
       "      <td>People &amp; Blogs</td>\n",
       "      <td>3 days</td>\n",
       "    </tr>\n",
       "    <tr>\n",
       "      <th>4</th>\n",
       "      <td>2017-11-14</td>\n",
       "      <td>Wearing Online Dollar Store Makeup For A Week</td>\n",
       "      <td>Safiya Nygaard</td>\n",
       "      <td>2017-11-11</td>\n",
       "      <td>wearing online dollar store makeup for a week|...</td>\n",
       "      <td>2744430</td>\n",
       "      <td>115426</td>\n",
       "      <td>1110</td>\n",
       "      <td>I found this online dollar store called ShopMi...</td>\n",
       "      <td>People &amp; Blogs</td>\n",
       "      <td>3 days</td>\n",
       "    </tr>\n",
       "  </tbody>\n",
       "</table>\n",
       "</div>"
      ],
      "text/plain": [
       "  trending_date                                              title  \\\n",
       "0    2017-11-14                 WE WANT TO TALK ABOUT OUR MARRIAGE   \n",
       "1    2017-11-14                               Me-O Cats Commercial   \n",
       "2    2017-11-14  AFFAIRS, EX BOYFRIENDS, $18MILLION NET WORTH -...   \n",
       "3    2017-11-14  BLIND(folded) CAKE DECORATING CONTEST (with Mo...   \n",
       "4    2017-11-14      Wearing Online Dollar Store Makeup For A Week   \n",
       "\n",
       "        channel_title publish_time  \\\n",
       "0        CaseyNeistat   2017-11-13   \n",
       "1             Nobrand   2017-04-21   \n",
       "2  Shawn Johnson East   2017-11-11   \n",
       "3        Grace Helbig   2017-11-11   \n",
       "4      Safiya Nygaard   2017-11-11   \n",
       "\n",
       "                                                tags    views   likes  \\\n",
       "0                                    SHANtell martin   748374   57527   \n",
       "1                          cute|\"cats\"|\"thai\"|\"eggs\"    98966    2486   \n",
       "2  shawn johnson|\"andrew east\"|\"shawn east\"|\"shaw...   321053    4451   \n",
       "3  itsgrace|\"funny\"|\"comedy\"|\"vlog\"|\"grace\"|\"helb...   197062    7250   \n",
       "4  wearing online dollar store makeup for a week|...  2744430  115426   \n",
       "\n",
       "   dislikes                                        description  \\\n",
       "0      2966  SHANTELL'S CHANNEL - https://www.youtube.com/s...   \n",
       "1       184  Kittens come out of the eggs in a Thai commerc...   \n",
       "2      1772  Subscribe for weekly videos ▶ http://bit.ly/sj...   \n",
       "3       217  Molly is an god damn amazing human and she cha...   \n",
       "4      1110  I found this online dollar store called ShopMi...   \n",
       "\n",
       "         category time_needed_for_trending  \n",
       "0  People & Blogs                   1 days  \n",
       "1  People & Blogs                 207 days  \n",
       "2  People & Blogs                   3 days  \n",
       "3  People & Blogs                   3 days  \n",
       "4  People & Blogs                   3 days  "
      ]
     },
     "execution_count": 306,
     "metadata": {},
     "output_type": "execute_result"
    }
   ],
   "source": [
    "df_cleaned.head()"
   ]
  },
  {
   "attachments": {},
   "cell_type": "markdown",
   "metadata": {},
   "source": [
    "Dari hal ini, maka semua kolom yang dibutuhkan untuk menganalisa telah lengkap dan tahap analisa dapat dimulai"
   ]
  },
  {
   "attachments": {},
   "cell_type": "markdown",
   "metadata": {},
   "source": [
    "# Exploratory Data Analysis Untuk Persentase Likes & Dislikes Per Views Beserta Kategori Yang Paling Diminati, Disukai, dan Tidak Disukai"
   ]
  },
  {
   "cell_type": "code",
   "execution_count": 307,
   "metadata": {},
   "outputs": [
    {
     "data": {
      "image/png": "[encoded data removed]",
      "text/plain": [
       "<Figure size 864x576 with 1 Axes>"
      ]
     },
     "metadata": {
      "needs_background": "light"
     },
     "output_type": "display_data"
    }
   ],
   "source": [
    "category = pd.DataFrame(df_cleaned['category'].value_counts().round(3))\n",
    "max_color = 'red'\n",
    "colors = ['darkgrey' if v != category['category'].max() else 'green' for i, v in enumerate(category['category'])]\n",
    "def format_xticks(label, limit=20):\n",
    "    if len(label) > limit:\n",
    "        return label[:limit] + '...'\n",
    "    else:\n",
    "        return label\n",
    "plt.figure(figsize=(12, 8))\n",
    "ax = sns.barplot(data=category, x=category.index, y='category', palette=colors)\n",
    "ax.set_xticklabels([format_xticks(label.get_text()) for label in ax.get_xticklabels()], \n",
    "                   rotation=90, fontsize=10)\n",
    "plt.title('Jumlah Videos Yang Trending Dari Tiap Kategori')\n",
    "\n",
    "for i, v in enumerate(category['category']):\n",
    "    if v == category['category'].max():\n",
    "        ax.text(i, v, f\"{v}\", ha='center', color=max_color, fontweight='bold')\n",
    "    else:\n",
    "        ax.text(i, v, f\"{v}\", ha='center')\n",
    "\n",
    "plt.show()"
   ]
  },
  {
   "cell_type": "code",
   "execution_count": 308,
   "metadata": {},
   "outputs": [
    {
     "name": "stdout",
     "output_type": "stream",
     "text": [
      "Entertainment            24.3\n",
      "Music                    15.8\n",
      "Howto & Style            10.1\n",
      "Comedy                    8.4\n",
      "People & Blogs            7.8\n",
      "News & Politics           6.1\n",
      "Science & Technology      5.9\n",
      "Film & Animation          5.7\n",
      "Sports                    5.3\n",
      "Education                 4.0\n",
      "Pets & Animals            2.2\n",
      "Gaming                    2.0\n",
      "Travel & Events           1.0\n",
      "Autos & Vehicles          0.9\n",
      "Nonprofits & Activism     0.1\n",
      "Shows                     0.1\n",
      "Name: category, dtype: float64\n"
     ]
    }
   ],
   "source": [
    "print(f\"{df_cleaned['category'].value_counts(normalize = True).round(3) * 100}\")"
   ]
  },
  {
   "attachments": {},
   "cell_type": "markdown",
   "metadata": {},
   "source": [
    "Dari hal ini, dapat dilihat bahwa kategori video yang paling banyak trending adalah **entertainment yakni sebesar 24,3% dari 40926 video yang trending di dataset ini**. "
   ]
  },
  {
   "cell_type": "code",
   "execution_count": 309,
   "metadata": {},
   "outputs": [
    {
     "data": {
      "image/png": "[encoded data removed]",
      "text/plain": [
       "<Figure size 864x576 with 1 Axes>"
      ]
     },
     "metadata": {
      "needs_background": "light"
     },
     "output_type": "display_data"
    }
   ],
   "source": [
    "Top5_category_diminati = pd.DataFrame(df_cleaned.groupby('category')['views'].mean().round(2).sort_values(ascending=False).head())\n",
    "colors = ['darkgrey' if v != Top5_category_diminati['views'].max() else 'darkgreen' for i, v in enumerate(Top5_category_diminati['views'])]\n",
    "\n",
    "plt.figure(figsize=(12, 8))\n",
    "ax = sns.barplot(data=Top5_category_diminati, x=Top5_category_diminati.index, y='views', palette=colors)\n",
    "plt.title('Top 5 Category Dengan Rata-Rata Views Terbanyak')\n",
    "def format_yticks(value, _):\n",
    "    return '{:,.0f}'.format(value)\n",
    "ax.yaxis.set_major_formatter(ticker.FuncFormatter(format_yticks))\n",
    "for i, v in enumerate(Top5_category_diminati['views']):\n",
    "    if v == Top5_category_diminati['views'].max():\n",
    "        ax.text(i, v, f\"{v}\", ha='center', color=max_color, fontweight='bold')\n",
    "    else:\n",
    "        ax.text(i, v, f\"{v}\", ha='center')\n",
    "\n",
    "plt.show()"
   ]
  },
  {
   "attachments": {},
   "cell_type": "markdown",
   "metadata": {},
   "source": [
    "Dilakukan eksplorasi lebih lanjut dan dapat dilihat bahwa dari video yang trending, kategori music, film & animation, nonprofits & activism, gaming, dan entertainment memiliki rata-rata views yang paling banyak. Angka ini merepresentasikan bahwa 5 kategori diatas merupakan 5 kategori yang paling diminati dari video yang trending di youtube (US only)."
   ]
  },
  {
   "cell_type": "code",
   "execution_count": 310,
   "metadata": {},
   "outputs": [
    {
     "data": {
      "image/png": "[encoded data removed]",
      "text/plain": [
       "<Figure size 864x576 with 1 Axes>"
      ]
     },
     "metadata": {
      "needs_background": "light"
     },
     "output_type": "display_data"
    }
   ],
   "source": [
    "Top5_category_tidakdiminati = pd.DataFrame(df_cleaned.groupby('category')['views'].mean().round(2).sort_values(ascending=True).head())\n",
    "colors = ['darkgrey' if v != Top5_category_tidakdiminati['views'].min() else 'darkgreen' for i, v in enumerate(Top5_category_tidakdiminati['views'])]\n",
    "\n",
    "plt.figure(figsize=(12, 8))\n",
    "ax = sns.barplot(data=Top5_category_tidakdiminati, x=Top5_category_tidakdiminati.index, y='views', palette=colors)\n",
    "plt.title('Top 5 Category Dengan Rata-Rata Views Terkecil')\n",
    "def format_yticks(value, _):\n",
    "    return '{:,.0f}'.format(value)\n",
    "ax.yaxis.set_major_formatter(ticker.FuncFormatter(format_yticks))\n",
    "for i, v in enumerate(Top5_category_tidakdiminati['views']):\n",
    "    if v == Top5_category_tidakdiminati['views'].min():\n",
    "        ax.text(i, v, f\"{v}\", ha='center', color=max_color, fontweight='bold')\n",
    "    else:\n",
    "        ax.text(i, v, f\"{v}\", ha='center')\n"
   ]
  },
  {
   "attachments": {},
   "cell_type": "markdown",
   "metadata": {},
   "source": [
    "Sedangkan kategori news & politics, education, pets & animals, travel & events, dan shows memiliki rata-rata views yang paling sedikit. Angka ini merepresentasikan bahwa 5 kategori diatas merupakan 5 kategori yang paling tidak diminati dari video yang trending di youtube (US only)."
   ]
  },
  {
   "cell_type": "code",
   "execution_count": 311,
   "metadata": {},
   "outputs": [
    {
     "data": {
      "image/png": "[encoded data removed]",
      "text/plain": [
       "<Figure size 864x576 with 1 Axes>"
      ]
     },
     "metadata": {
      "needs_background": "light"
     },
     "output_type": "display_data"
    }
   ],
   "source": [
    "Top5_category_disukai = pd.DataFrame(df_cleaned.groupby('category')['likes'].mean().round(2).sort_values(ascending=False).head())\n",
    "colors = ['darkgrey' if v != Top5_category_disukai['likes'].max() else 'darkgreen' for i, v in enumerate(Top5_category_disukai['likes'])]\n",
    "\n",
    "plt.figure(figsize=(12, 8))\n",
    "ax = sns.barplot(data=Top5_category_disukai, x=Top5_category_disukai.index, y='likes', palette=colors)\n",
    "plt.title('Top 5 Category Dengan Rata-Rata Likes Terbanyak')\n",
    "def format_yticks(value, _):\n",
    "    return '{:,.0f}'.format(value)\n",
    "ax.yaxis.set_major_formatter(ticker.FuncFormatter(format_yticks))\n",
    "for i, v in enumerate(Top5_category_disukai['likes']):\n",
    "    if v == Top5_category_disukai['likes'].max():\n",
    "        ax.text(i, v, f\"{v}\", ha='center', color=max_color, fontweight='bold')\n",
    "    else:\n",
    "        ax.text(i, v, f\"{v}\", ha='center')\n",
    "\n",
    "plt.show()"
   ]
  },
  {
   "attachments": {},
   "cell_type": "markdown",
   "metadata": {},
   "source": [
    "Dari hasil ini, dapat dilihat bahwa kategori nonprofits & activism, music, gaming, film & animation, dan comedy merupakan 5 kategori yang memiliki rata-rata like terbesar dari video yang trending di youtube (US only)."
   ]
  },
  {
   "cell_type": "code",
   "execution_count": 312,
   "metadata": {},
   "outputs": [
    {
     "data": {
      "image/png": "[encoded data removed]",
      "text/plain": [
       "<Figure size 864x576 with 1 Axes>"
      ]
     },
     "metadata": {
      "needs_background": "light"
     },
     "output_type": "display_data"
    }
   ],
   "source": [
    "Top5_category_tidakdisukai = pd.DataFrame(df_cleaned.groupby('category')['dislikes'].mean().round(2).sort_values(ascending=False).head())\n",
    "colors = ['darkgrey' if v != Top5_category_tidakdisukai['dislikes'].max() else 'darkgreen' for i, v in enumerate(Top5_category_tidakdisukai['dislikes'])]\n",
    "\n",
    "plt.figure(figsize=(12, 8))\n",
    "ax = sns.barplot(data=Top5_category_tidakdisukai, x=Top5_category_tidakdisukai.index, y='dislikes', palette=colors)\n",
    "plt.title('Top 5 Category Dengan Rata-Rata Dislike Terbanyak')\n",
    "def format_yticks(value, _):\n",
    "    return '{:,.0f}'.format(value)\n",
    "ax.yaxis.set_major_formatter(ticker.FuncFormatter(format_yticks))\n",
    "for i, v in enumerate(Top5_category_tidakdisukai['dislikes']):\n",
    "    if v == Top5_category_tidakdisukai['dislikes'].max():\n",
    "        ax.text(i, v, f\"{v}\", ha='center', color=max_color, fontweight='bold')\n",
    "    else:\n",
    "        ax.text(i, v, f\"{v}\", ha='center')\n",
    "\n",
    "plt.show()"
   ]
  },
  {
   "attachments": {},
   "cell_type": "markdown",
   "metadata": {},
   "source": [
    "Dari hasil ini, dapat dilihat bahwa kategori nonprofits & activism, gaming, music, entertainment, dan people & blogs merupakan 5 kategori yang memiliki rata-rata dislike terbesar dari video yang trending di youtube (US only)."
   ]
  },
  {
   "attachments": {},
   "cell_type": "markdown",
   "metadata": {},
   "source": [
    "# Keanehan yang ditemukan\n",
    "Muncul sebuah pertanyaan dari analisa yang dijabarkan diatas yakni :\n",
    "* Mengapa kategori nonprofits & activism, gaming, dan music memiliki jumlah rata-rata like dan dislike terbesar?\n",
    "* Kategori nonprofits & activism, gaming, music, dan entertainment memiliki jumlah rata-rata dislike terbesar namun keempat kategori ini termasuk kategori yang paling diminati (memiliki rata-rata jumlah views terbesar).\n",
    "* Kategori nonprofits & activism, music, gaming, dan film & animation memiliki jumlah rata-rata like terbesar namun keempat kategori ini termasuk kategori yang paling diminati (memiliki rata-rata jumlah views terbesar).\n",
    "\n",
    "Dari hal yang disampaikan tersebut, maka pertanyaan besar yang muncul adalah :\n",
    "* Apakah terdapat suatu hubungan dari kolom `likes`, `dislikes`, dan `views`?\n"
   ]
  },
  {
   "cell_type": "code",
   "execution_count": 313,
   "metadata": {},
   "outputs": [
    {
     "data": {
      "image/png": "[encoded data removed]",
      "text/plain": [
       "<Figure size 720x720 with 2 Axes>"
      ]
     },
     "metadata": {
      "needs_background": "light"
     },
     "output_type": "display_data"
    }
   ],
   "source": [
    "plt.figure(figsize = (10,10))\n",
    "sns.heatmap(df[['likes', 'dislikes', 'views']].corr(), annot = True, cmap = 'mako')\n",
    "plt.show()"
   ]
  },
  {
   "attachments": {},
   "cell_type": "markdown",
   "metadata": {},
   "source": [
    "Dari korelasi ini, ditetapkan 0,5 sebagai nilai tengah dan dapat dilihat bahwa `dislikes` memiliki korelasi positif yang kurang kuat (dibawah 0,5) dengan `views` dan `likes` sedangkan `likes` memiliki korelasi positif yang sangat kuat dengan `views` (diatas 0,5 dan mendekati 1) dan korelasi positif yang kurang kuat dengan `dislikes` (dibawah 0,5). Hal ini mengartikan bahwa `views`, `likes`, dan `dislikes` memiliki hubungan berbentuk korelasi positif antara satu sama lain sehingga semakin tinggi salah satu angka dari ketiga kolom tersebut, maka semakin tinggi juga angka dari kedua kolom lainnya. Untuk lebih jelas, contohnya adalah semakin tinggi angka dalam kolom `views`, maka angka dalam kolom `likes` akan semakin tinggi secara signifikan dan angka dalam kolom `dislikes` akan semakin tinggi namun tidak secara signifikan. "
   ]
  },
  {
   "cell_type": "code",
   "execution_count": 314,
   "metadata": {},
   "outputs": [],
   "source": [
    "total_views = df_cleaned['views'].sum()\n",
    "total_likes = df_cleaned['likes'].sum()\n",
    "total_dislikes = df_cleaned['dislikes'].sum()"
   ]
  },
  {
   "cell_type": "code",
   "execution_count": 315,
   "metadata": {},
   "outputs": [
    {
     "data": {
      "text/plain": [
       "96633657080"
      ]
     },
     "execution_count": 315,
     "metadata": {},
     "output_type": "execute_result"
    }
   ],
   "source": [
    "total_views"
   ]
  },
  {
   "cell_type": "code",
   "execution_count": 316,
   "metadata": {},
   "outputs": [
    {
     "data": {
      "text/plain": [
       "3040025478"
      ]
     },
     "execution_count": 316,
     "metadata": {},
     "output_type": "execute_result"
    }
   ],
   "source": [
    "total_likes"
   ]
  },
  {
   "cell_type": "code",
   "execution_count": 317,
   "metadata": {},
   "outputs": [
    {
     "data": {
      "text/plain": [
       "151944975"
      ]
     },
     "execution_count": 317,
     "metadata": {},
     "output_type": "execute_result"
    }
   ],
   "source": [
    "total_dislikes"
   ]
  },
  {
   "cell_type": "code",
   "execution_count": 318,
   "metadata": {},
   "outputs": [],
   "source": [
    "persentase_like_per_view = (total_likes / total_views) * 100 \n",
    "persentase_dislike_per_view = (total_dislikes / total_views) * 100 "
   ]
  },
  {
   "cell_type": "code",
   "execution_count": 319,
   "metadata": {},
   "outputs": [
    {
     "name": "stdout",
     "output_type": "stream",
     "text": [
      "Persentase Like Per Views : 3.15 %\n",
      "Persentase Dislike Per Views : 0.16 %\n"
     ]
    }
   ],
   "source": [
    "print(f\"Persentase Like Per Views : {persentase_like_per_view.round(2)} %\")\n",
    "print(f\"Persentase Dislike Per Views : {persentase_dislike_per_view.round(2)} %\")"
   ]
  },
  {
   "attachments": {},
   "cell_type": "markdown",
   "metadata": {},
   "source": [
    "Dari hasil ini, ditemukan bahwa persentase like per views adalah 3,15 % dan persentase dislike per views adalah 0,16 % dimana angka ini juga membuktikan hasil uji korelasi yang dilakukan diatas. Kesimpulan yang dapat diambil dari hal ini adalah **content creator dapat mengambil jumlah views sebagai fokus utama terlebih dahulu karena semakin banyak jumlah views, peningkatan jumlah like akan lebih besar dibandingkan peningkatan jumlah dislike dari suatu video**"
   ]
  },
  {
   "attachments": {},
   "cell_type": "markdown",
   "metadata": {},
   "source": [
    "# Exploratory Data Analysis Untuk Seberapa Lama Waktu Yang Dibutuhkan Dari Suatu Video Untuk Trending"
   ]
  },
  {
   "cell_type": "code",
   "execution_count": 320,
   "metadata": {},
   "outputs": [],
   "source": [
    "time_needed_for_trending_days = df_cleaned['time_needed_for_trending'].dt.total_seconds() / (24 * 3600)"
   ]
  },
  {
   "cell_type": "code",
   "execution_count": 321,
   "metadata": {},
   "outputs": [
    {
     "name": "stdout",
     "output_type": "stream",
     "text": [
      "Waktu rata-rata untuk suatu video trending adalah 17 hari\n"
     ]
    }
   ],
   "source": [
    "print(f\"Waktu rata-rata untuk suatu video trending adalah {int(time_needed_for_trending_days.mean().round(0))} hari\")"
   ]
  },
  {
   "attachments": {},
   "cell_type": "markdown",
   "metadata": {},
   "source": [
    "Dari hal ini, ditemukan lama waktu rata-rata untuk suatu video trending adalah 17 hari namun angka ini merupakan rata-rata dari semua kategori. Untuk membantu content creator dapat menemukan kategori yang sekiranya memiliki waktu paling cepat untuk trending, perlu dilakukan eksplorasi tambahan."
   ]
  },
  {
   "cell_type": "code",
   "execution_count": 322,
   "metadata": {},
   "outputs": [],
   "source": [
    "Visualization_Category_Trending = pd.DataFrame(df_cleaned.groupby('category')['time_needed_for_trending'].mean().dt.days)"
   ]
  },
  {
   "cell_type": "code",
   "execution_count": 323,
   "metadata": {},
   "outputs": [],
   "source": [
    "Top_Five_Fastest_Category_For_Trending = df_cleaned.groupby('category')['time_needed_for_trending'].mean().dt.days.sort_values(ascending=True).head()"
   ]
  },
  {
   "cell_type": "code",
   "execution_count": 324,
   "metadata": {},
   "outputs": [],
   "source": [
    "Visualization_Top_Five_Fastest_For_Trending = pd.DataFrame(Top_Five_Fastest_Category_For_Trending)"
   ]
  },
  {
   "cell_type": "code",
   "execution_count": 325,
   "metadata": {},
   "outputs": [],
   "source": [
    "cols = ['orange' if x in Visualization_Top_Five_Fastest_For_Trending.index else 'grey' for x in Visualization_Category_Trending.index]"
   ]
  },
  {
   "cell_type": "code",
   "execution_count": 326,
   "metadata": {},
   "outputs": [
    {
     "data": {
      "image/png": "[encoded data removed]",
      "text/plain": [
       "<Figure size 1080x576 with 1 Axes>"
      ]
     },
     "metadata": {
      "needs_background": "light"
     },
     "output_type": "display_data"
    }
   ],
   "source": [
    "import matplotlib.patches as mpatches\n",
    "\n",
    "plt.figure(figsize = (15,8))\n",
    "ax = sns.barplot(data = Visualization_Category_Trending, x = Visualization_Category_Trending.index, y = 'time_needed_for_trending', palette = cols)\n",
    "ax.set_xticklabels(ax.get_xticklabels(), rotation = 90, fontsize = 12)\n",
    "plt.title(\"Waktu Rata-Rata Yang Dibutuhkan Tiap Kategori Untuk Trending\")\n",
    "orange_patch = mpatches.Patch(color='orange', label='Top 5 Kategori Tercepat Untuk Trending')\n",
    "grey_patch = mpatches.Patch(color='grey', label='Kategori Lainnya')\n",
    "plt.legend(handles=[orange_patch, grey_patch], loc='upper right')\n",
    "plt.show()"
   ]
  },
  {
   "cell_type": "code",
   "execution_count": 327,
   "metadata": {},
   "outputs": [
    {
     "data": {
      "text/plain": [
       "category\n",
       "Nonprofits & Activism    5 days\n",
       "Howto & Style            7 days\n",
       "Pets & Animals           7 days\n",
       "Travel & Events          7 days\n",
       "Comedy                  10 days\n",
       "Name: time_needed_for_trending, dtype: timedelta64[ns]"
      ]
     },
     "execution_count": 327,
     "metadata": {},
     "output_type": "execute_result"
    }
   ],
   "source": [
    "df_cleaned.groupby('category')['time_needed_for_trending'].mean().dt.floor('D').sort_values(ascending=True).head()"
   ]
  },
  {
   "attachments": {},
   "cell_type": "markdown",
   "metadata": {},
   "source": [
    "Dapat dilihat bahwa kategori **comedy, howto & style, nonprofits & activism, pets & animals, dan travel & events** memiliki waktu rata-rata tercepat untuk trending. Dari kelima kategori tersebut, kategori **nonprofits & activism** memiliki waktu rata-rata tercepat untuk trending yakni 5 hari."
   ]
  },
  {
   "attachments": {},
   "cell_type": "markdown",
   "metadata": {},
   "source": [
    "# Exploratory Data Analysis Untuk Video Yang Memiliki Description & Yang Tidak"
   ]
  },
  {
   "cell_type": "code",
   "execution_count": 328,
   "metadata": {},
   "outputs": [
    {
     "data": {
      "text/plain": [
       "Index(['trending_date', 'title', 'channel_title', 'publish_time', 'tags',\n",
       "       'views', 'likes', 'dislikes', 'description', 'category',\n",
       "       'time_needed_for_trending'],\n",
       "      dtype='object')"
      ]
     },
     "execution_count": 328,
     "metadata": {},
     "output_type": "execute_result"
    }
   ],
   "source": [
    "df_cleaned.columns"
   ]
  },
  {
   "cell_type": "code",
   "execution_count": 329,
   "metadata": {},
   "outputs": [],
   "source": [
    "df_cleaned['description'].fillna(\"No Description\", inplace = True)"
   ]
  },
  {
   "attachments": {},
   "cell_type": "markdown",
   "metadata": {},
   "source": [
    "Dapat dilihat bahwa jumlah data kosong pada kolom `description` mengalami penurunan dari 570 menjadi 568. Hal ini disebabkan karena penghapusan baris yang sebelumnya telah dilakukan. Untuk data kosong, karena akan digunakan untuk analisa pembanding dari video trending yang tidak ada `description` dan ada `description`. "
   ]
  },
  {
   "cell_type": "code",
   "execution_count": 330,
   "metadata": {},
   "outputs": [
    {
     "data": {
      "text/plain": [
       "1654345.73"
      ]
     },
     "execution_count": 330,
     "metadata": {},
     "output_type": "execute_result"
    }
   ],
   "source": [
    "df_cleaned.loc[df_cleaned['description'] == \"No Description\"]['views'].mean().round(2)"
   ]
  },
  {
   "cell_type": "code",
   "execution_count": 331,
   "metadata": {},
   "outputs": [
    {
     "data": {
      "text/plain": [
       "2371128.12"
      ]
     },
     "execution_count": 331,
     "metadata": {},
     "output_type": "execute_result"
    }
   ],
   "source": [
    "df_cleaned.loc[df_cleaned['description'] != \"No Description\"]['views'].mean().round(2)"
   ]
  },
  {
   "attachments": {},
   "cell_type": "markdown",
   "metadata": {},
   "source": [
    "Dari hasil ini, dapat dilihat bahwa data yang tidak memiliki deskripsi cenderung memiliki rata-rata jumlah views yang lebih rendah dibandingkan data yang memiliki deskripsi namun hal ini perlu dilakukan eksplorasi lagi dengan uji statistik agar kita dapat mengetahui apakah kolom `description` ini benar-benar berpengaruh terhadap jumlah views. Pertama, akan dilakukan uji normalitas terlebih dahulu terhadap kolom `views` dan `description` untuk mengetahui uji parametrik atau non parametrik yang harus diterapkan."
   ]
  },
  {
   "cell_type": "code",
   "execution_count": 332,
   "metadata": {},
   "outputs": [],
   "source": [
    "#Pemisahan ini berfungsi untuk uji statistik yang akan diterapkan (perbedaan jumlah views dari video yang memiliki description dan yang tidak)\n",
    "views_with_no_description = df_cleaned.loc[df_cleaned['description'] == \"No Description\"]['views']\n",
    "views_with_description = df_cleaned.loc[df_cleaned['description'] != \"No Description\"]['views']"
   ]
  },
  {
   "cell_type": "code",
   "execution_count": 333,
   "metadata": {},
   "outputs": [
    {
     "name": "stdout",
     "output_type": "stream",
     "text": [
      "5.902291262413715e-130\n",
      "Tidak Normal\n"
     ]
    }
   ],
   "source": [
    "from scipy.stats import normaltest\n",
    "stats, pval = normaltest(views_with_no_description)\n",
    "print(pval)\n",
    "if pval > 0.05:\n",
    "    print(\"Berdistribusi Normal\")\n",
    "else:\n",
    "    print(\"Tidak Normal\")"
   ]
  },
  {
   "cell_type": "code",
   "execution_count": 334,
   "metadata": {},
   "outputs": [
    {
     "name": "stdout",
     "output_type": "stream",
     "text": [
      "0.0\n",
      "Tidak Normal\n"
     ]
    }
   ],
   "source": [
    "stats, pval = normaltest(views_with_description)\n",
    "print(pval)\n",
    "if pval > 0.05:\n",
    "    print(\"Berdistribusi Normal\")\n",
    "else:\n",
    "    print(\"Tidak Normal\")"
   ]
  },
  {
   "cell_type": "code",
   "execution_count": 335,
   "metadata": {},
   "outputs": [
    {
     "name": "stdout",
     "output_type": "stream",
     "text": [
      "7.0344676835737514e-40\n",
      "Tolak H0\n"
     ]
    }
   ],
   "source": [
    "#Uji Mann Whitney karena kedua views_with_description dan views_with_no_description tidak berdistribusi normal\n",
    "from scipy.stats import mannwhitneyu \n",
    "stats, pval = mannwhitneyu(views_with_description, views_with_no_description)\n",
    "print(pval)\n",
    "if pval <= 0.05:\n",
    "    print('Tolak H0')\n",
    "else:\n",
    "    print(\"Gagal menolak H0\")"
   ]
  },
  {
   "attachments": {},
   "cell_type": "markdown",
   "metadata": {},
   "source": [
    "Dari hal ini, maka didapatkan bahwa H0 ditolak dimana hal ini mengartikan bahwa terdapat perbedaan signifikan antara jumlah views dari video yang memiliki description dan yang tidak. Kesimpulan yang dapat diambil dari hal ini adalah **pemberian description pada video mempengaruhi jumlah views yang dapat diperoleh**."
   ]
  },
  {
   "attachments": {},
   "cell_type": "markdown",
   "metadata": {},
   "source": [
    "# Exploratory Data Analysis Untuk Channel Title"
   ]
  },
  {
   "cell_type": "code",
   "execution_count": 336,
   "metadata": {},
   "outputs": [
    {
     "data": {
      "text/html": [
       "<div>\n",
       "<style scoped>\n",
       "    .dataframe tbody tr th:only-of-type {\n",
       "        vertical-align: middle;\n",
       "    }\n",
       "\n",
       "    .dataframe tbody tr th {\n",
       "        vertical-align: top;\n",
       "    }\n",
       "\n",
       "    .dataframe thead th {\n",
       "        text-align: right;\n",
       "    }\n",
       "</style>\n",
       "<table border=\"1\" class=\"dataframe\">\n",
       "  <thead>\n",
       "    <tr style=\"text-align: right;\">\n",
       "      <th></th>\n",
       "      <th>trending_date</th>\n",
       "      <th>title</th>\n",
       "      <th>channel_title</th>\n",
       "      <th>publish_time</th>\n",
       "      <th>tags</th>\n",
       "      <th>views</th>\n",
       "      <th>likes</th>\n",
       "      <th>dislikes</th>\n",
       "      <th>description</th>\n",
       "      <th>category</th>\n",
       "      <th>time_needed_for_trending</th>\n",
       "    </tr>\n",
       "  </thead>\n",
       "  <tbody>\n",
       "    <tr>\n",
       "      <th>0</th>\n",
       "      <td>2017-11-14</td>\n",
       "      <td>WE WANT TO TALK ABOUT OUR MARRIAGE</td>\n",
       "      <td>CaseyNeistat</td>\n",
       "      <td>2017-11-13</td>\n",
       "      <td>SHANtell martin</td>\n",
       "      <td>748374</td>\n",
       "      <td>57527</td>\n",
       "      <td>2966</td>\n",
       "      <td>SHANTELL'S CHANNEL - https://www.youtube.com/s...</td>\n",
       "      <td>People &amp; Blogs</td>\n",
       "      <td>1 days</td>\n",
       "    </tr>\n",
       "    <tr>\n",
       "      <th>1</th>\n",
       "      <td>2017-11-14</td>\n",
       "      <td>Me-O Cats Commercial</td>\n",
       "      <td>Nobrand</td>\n",
       "      <td>2017-04-21</td>\n",
       "      <td>cute|\"cats\"|\"thai\"|\"eggs\"</td>\n",
       "      <td>98966</td>\n",
       "      <td>2486</td>\n",
       "      <td>184</td>\n",
       "      <td>Kittens come out of the eggs in a Thai commerc...</td>\n",
       "      <td>People &amp; Blogs</td>\n",
       "      <td>207 days</td>\n",
       "    </tr>\n",
       "    <tr>\n",
       "      <th>2</th>\n",
       "      <td>2017-11-14</td>\n",
       "      <td>AFFAIRS, EX BOYFRIENDS, $18MILLION NET WORTH -...</td>\n",
       "      <td>Shawn Johnson East</td>\n",
       "      <td>2017-11-11</td>\n",
       "      <td>shawn johnson|\"andrew east\"|\"shawn east\"|\"shaw...</td>\n",
       "      <td>321053</td>\n",
       "      <td>4451</td>\n",
       "      <td>1772</td>\n",
       "      <td>Subscribe for weekly videos ▶ http://bit.ly/sj...</td>\n",
       "      <td>People &amp; Blogs</td>\n",
       "      <td>3 days</td>\n",
       "    </tr>\n",
       "    <tr>\n",
       "      <th>3</th>\n",
       "      <td>2017-11-14</td>\n",
       "      <td>BLIND(folded) CAKE DECORATING CONTEST (with Mo...</td>\n",
       "      <td>Grace Helbig</td>\n",
       "      <td>2017-11-11</td>\n",
       "      <td>itsgrace|\"funny\"|\"comedy\"|\"vlog\"|\"grace\"|\"helb...</td>\n",
       "      <td>197062</td>\n",
       "      <td>7250</td>\n",
       "      <td>217</td>\n",
       "      <td>Molly is an god damn amazing human and she cha...</td>\n",
       "      <td>People &amp; Blogs</td>\n",
       "      <td>3 days</td>\n",
       "    </tr>\n",
       "    <tr>\n",
       "      <th>4</th>\n",
       "      <td>2017-11-14</td>\n",
       "      <td>Wearing Online Dollar Store Makeup For A Week</td>\n",
       "      <td>Safiya Nygaard</td>\n",
       "      <td>2017-11-11</td>\n",
       "      <td>wearing online dollar store makeup for a week|...</td>\n",
       "      <td>2744430</td>\n",
       "      <td>115426</td>\n",
       "      <td>1110</td>\n",
       "      <td>I found this online dollar store called ShopMi...</td>\n",
       "      <td>People &amp; Blogs</td>\n",
       "      <td>3 days</td>\n",
       "    </tr>\n",
       "  </tbody>\n",
       "</table>\n",
       "</div>"
      ],
      "text/plain": [
       "  trending_date                                              title  \\\n",
       "0    2017-11-14                 WE WANT TO TALK ABOUT OUR MARRIAGE   \n",
       "1    2017-11-14                               Me-O Cats Commercial   \n",
       "2    2017-11-14  AFFAIRS, EX BOYFRIENDS, $18MILLION NET WORTH -...   \n",
       "3    2017-11-14  BLIND(folded) CAKE DECORATING CONTEST (with Mo...   \n",
       "4    2017-11-14      Wearing Online Dollar Store Makeup For A Week   \n",
       "\n",
       "        channel_title publish_time  \\\n",
       "0        CaseyNeistat   2017-11-13   \n",
       "1             Nobrand   2017-04-21   \n",
       "2  Shawn Johnson East   2017-11-11   \n",
       "3        Grace Helbig   2017-11-11   \n",
       "4      Safiya Nygaard   2017-11-11   \n",
       "\n",
       "                                                tags    views   likes  \\\n",
       "0                                    SHANtell martin   748374   57527   \n",
       "1                          cute|\"cats\"|\"thai\"|\"eggs\"    98966    2486   \n",
       "2  shawn johnson|\"andrew east\"|\"shawn east\"|\"shaw...   321053    4451   \n",
       "3  itsgrace|\"funny\"|\"comedy\"|\"vlog\"|\"grace\"|\"helb...   197062    7250   \n",
       "4  wearing online dollar store makeup for a week|...  2744430  115426   \n",
       "\n",
       "   dislikes                                        description  \\\n",
       "0      2966  SHANTELL'S CHANNEL - https://www.youtube.com/s...   \n",
       "1       184  Kittens come out of the eggs in a Thai commerc...   \n",
       "2      1772  Subscribe for weekly videos ▶ http://bit.ly/sj...   \n",
       "3       217  Molly is an god damn amazing human and she cha...   \n",
       "4      1110  I found this online dollar store called ShopMi...   \n",
       "\n",
       "         category time_needed_for_trending  \n",
       "0  People & Blogs                   1 days  \n",
       "1  People & Blogs                 207 days  \n",
       "2  People & Blogs                   3 days  \n",
       "3  People & Blogs                   3 days  \n",
       "4  People & Blogs                   3 days  "
      ]
     },
     "execution_count": 336,
     "metadata": {},
     "output_type": "execute_result"
    }
   ],
   "source": [
    "df_cleaned.head()"
   ]
  },
  {
   "cell_type": "code",
   "execution_count": 337,
   "metadata": {},
   "outputs": [
    {
     "data": {
      "text/plain": [
       "channel_title\n",
       "ESPN                                      203\n",
       "The Tonight Show Starring Jimmy Fallon    197\n",
       "TheEllenShow                              193\n",
       "Netflix                                   193\n",
       "Vox                                       193\n",
       "The Late Show with Stephen Colbert        187\n",
       "Jimmy Kimmel Live                         186\n",
       "Late Night with Seth Meyers               183\n",
       "Screen Junkies                            182\n",
       "NBA                                       181\n",
       "Name: title, dtype: int64"
      ]
     },
     "execution_count": 337,
     "metadata": {},
     "output_type": "execute_result"
    }
   ],
   "source": [
    "df_cleaned.groupby('channel_title')['title'].count().sort_values(ascending = False).head(10)"
   ]
  },
  {
   "cell_type": "code",
   "execution_count": 338,
   "metadata": {},
   "outputs": [
    {
     "data": {
      "text/plain": [
       "channel_title\n",
       "ChildishGambinoVEVO            3758488765\n",
       "ibighit                        2235906679\n",
       "Dude Perfect                   1870085178\n",
       "Marvel Entertainment           1808998971\n",
       "ArianaGrandeVevo               1576959172\n",
       "MalumaVEVO                     1551515831\n",
       "jypentertainment               1486972132\n",
       "Sony Pictures Entertainment    1432374398\n",
       "FoxStarHindi                   1238609854\n",
       "BeckyGVEVO                     1182971286\n",
       "Name: views, dtype: int64"
      ]
     },
     "execution_count": 338,
     "metadata": {},
     "output_type": "execute_result"
    }
   ],
   "source": [
    "df_cleaned.groupby('channel_title')['views'].sum().sort_values(ascending = False).head(10)"
   ]
  },
  {
   "cell_type": "code",
   "execution_count": 339,
   "metadata": {},
   "outputs": [
    {
     "data": {
      "text/plain": [
       "channel_title\n",
       "ibighit                 199247121\n",
       "ChildishGambinoVEVO      96700818\n",
       "Dude Perfect             60275557\n",
       "Marvel Entertainment     55873344\n",
       "ArianaGrandeVevo         52170970\n",
       "jypentertainment         44900910\n",
       "TaylorSwiftVEVO          39292840\n",
       "Ed Sheeran               39279211\n",
       "ZaynVEVO                 31695245\n",
       "Logan Paul Vlogs         31545290\n",
       "Name: likes, dtype: int64"
      ]
     },
     "execution_count": 339,
     "metadata": {},
     "output_type": "execute_result"
    }
   ],
   "source": [
    "df_cleaned.groupby('channel_title')['likes'].sum().sort_values(ascending = False).head(10)"
   ]
  },
  {
   "cell_type": "code",
   "execution_count": 340,
   "metadata": {},
   "outputs": [
    {
     "data": {
      "text/plain": [
       "channel_title\n",
       "Logan Paul Vlogs       13847251\n",
       "YouTube Spotlight      10924092\n",
       "ChildishGambinoVEVO     6054434\n",
       "Call of Duty            5644083\n",
       "ibighit                 3467306\n",
       "jypentertainment        2482131\n",
       "TaylorSwiftVEVO         2127542\n",
       "ArianaGrandeVevo        1931230\n",
       "MalumaVEVO              1757948\n",
       "KatyPerryVEVO           1669622\n",
       "Name: dislikes, dtype: int64"
      ]
     },
     "execution_count": 340,
     "metadata": {},
     "output_type": "execute_result"
    }
   ],
   "source": [
    "df_cleaned.groupby('channel_title')['dislikes'].sum().sort_values(ascending = False).head(10)"
   ]
  },
  {
   "attachments": {},
   "cell_type": "markdown",
   "metadata": {},
   "source": [
    "Dari eksplorasi data awal, ditemukan suatu menarik yakni **top 10 channel yang memiliki jumlah video yang trending, jumlah views, jumlah likes, dan jumlah dislikes memiliki hasil berupa channel yang berbeda-beda untuk keempat hal tersebut**. Pada tahap sebelumnya, sempat disinggung mengenai rasio jumlah likes dan dislikes per view yang ada. Hal ini akan dijadikan sebagai patokan utama untuk memperlihatkan channel mana yang memiliki rasio jumlah likes / views dan jumlah dislikes / views terbanyak."
   ]
  },
  {
   "cell_type": "code",
   "execution_count": 341,
   "metadata": {},
   "outputs": [],
   "source": [
    "df_cleaned['ratio_likes_per_view (percentage)'] = df_cleaned['likes'] / df_cleaned['views'] * 100\n",
    "df_cleaned['ratio_dislikes_per_view (percentage)'] = df_cleaned['dislikes'] / df_cleaned['views'] * 100"
   ]
  },
  {
   "cell_type": "code",
   "execution_count": 342,
   "metadata": {},
   "outputs": [
    {
     "data": {
      "image/png": "[encoded data removed]",
      "text/plain": [
       "<Figure size 864x576 with 1 Axes>"
      ]
     },
     "metadata": {
      "needs_background": "light"
     },
     "output_type": "display_data"
    }
   ],
   "source": [
    "Top10_channel_title_ratio_like_per_view = pd.DataFrame(df_cleaned.groupby('channel_title')['ratio_likes_per_view (percentage)'].mean().sort_values(ascending = False).head(10).round(2))\n",
    "colors = ['darkgrey' if v != Top10_channel_title_ratio_like_per_view['ratio_likes_per_view (percentage)'].max() else 'steelblue' for i, v in enumerate(Top10_channel_title_ratio_like_per_view['ratio_likes_per_view (percentage)'])]\n",
    "\n",
    "def format_xticks(label, limit=20):\n",
    "    if len(label) > limit:\n",
    "        return label[:limit] + '...'\n",
    "    else:\n",
    "        return label\n",
    "    \n",
    "plt.figure(figsize=(12, 8))\n",
    "ax = sns.barplot(data=Top10_channel_title_ratio_like_per_view, x=Top10_channel_title_ratio_like_per_view.index, y='ratio_likes_per_view (percentage)', palette=colors)\n",
    "plt.title('Top 10 Channel Title Dengan Ratio Likes Per View Terbesar')\n",
    "ax.set_xticklabels([format_xticks(label.get_text()) for label in ax.get_xticklabels()], \n",
    "                   rotation=90, fontsize=10)\n",
    "def format_yticks(value, _):\n",
    "    return '{:,.0f}%'.format(value)\n",
    "ax.yaxis.set_major_formatter(ticker.FuncFormatter(format_yticks))\n",
    "for i, v in enumerate(Top10_channel_title_ratio_like_per_view['ratio_likes_per_view (percentage)']):\n",
    "    if v == Top10_channel_title_ratio_like_per_view['ratio_likes_per_view (percentage)'].max():\n",
    "        ax.text(i, v, f\"{v:.2f}%\", ha='center', color=max_color, fontweight='bold')\n",
    "    else:\n",
    "        ax.text(i, v, f\"{v:.2f}%\", ha='center')\n",
    "\n",
    "plt.show()"
   ]
  },
  {
   "cell_type": "code",
   "execution_count": 343,
   "metadata": {},
   "outputs": [
    {
     "data": {
      "image/png": "[encoded data removed]",
      "text/plain": [
       "<Figure size 864x576 with 1 Axes>"
      ]
     },
     "metadata": {
      "needs_background": "light"
     },
     "output_type": "display_data"
    }
   ],
   "source": [
    "Top10_channel_title_ratio_dislike_per_view = pd.DataFrame(df_cleaned.groupby('channel_title')['ratio_dislikes_per_view (percentage)'].mean().sort_values(ascending = False).head(10).round(2))\n",
    "colors = ['darkgrey' if v != Top10_channel_title_ratio_dislike_per_view['ratio_dislikes_per_view (percentage)'].max() else 'steelblue' for i, v in enumerate(Top10_channel_title_ratio_dislike_per_view['ratio_dislikes_per_view (percentage)'])]\n",
    "\n",
    "def format_xticks(label, limit=20):\n",
    "    if len(label) > limit:\n",
    "        return label[:limit] + '...'\n",
    "    else:\n",
    "        return label\n",
    "    \n",
    "plt.figure(figsize=(12, 8))\n",
    "ax = sns.barplot(data=Top10_channel_title_ratio_dislike_per_view, x=Top10_channel_title_ratio_dislike_per_view.index, y='ratio_dislikes_per_view (percentage)', palette=colors)\n",
    "plt.title('Top 10 Channel Title Dengan Ratio Dislikes Per View Terbesar')\n",
    "ax.set_xticklabels([format_xticks(label.get_text()) for label in ax.get_xticklabels()], \n",
    "                   rotation=90, fontsize=10)\n",
    "def format_yticks(value, _):\n",
    "    return '{:,.0f}%'.format(value)\n",
    "ax.yaxis.set_major_formatter(ticker.FuncFormatter(format_yticks))\n",
    "for i, v in enumerate(Top10_channel_title_ratio_dislike_per_view['ratio_dislikes_per_view (percentage)']):\n",
    "    if v == Top10_channel_title_ratio_dislike_per_view['ratio_dislikes_per_view (percentage)'].max():\n",
    "        ax.text(i, v, f\"{v:.2f}%\", ha='center', color=max_color, fontweight='bold')\n",
    "    else:\n",
    "        ax.text(i, v, f\"{v:.2f}%\", ha='center')"
   ]
  },
  {
   "attachments": {},
   "cell_type": "markdown",
   "metadata": {},
   "source": [
    "Dari hal ini, dapat dilihat bahwa nilai yang didapatkan dari top 10 channel dengan nilai `ratio_likes_per_view (percentage)` dan `ratio_dislikes_per_view (percentage)` yang memiliki perbedaan jauh dari rasio likes per view dan rasio dislikes per view yang ditemukan sebelumnya (3,15 % untuk rasio likes per view dan 0,16 % dislikes per view). **Hal ini mencerminkan bahwa `channel_title` ini sendiri memiliki reputasi yang berbeda untuk masing-masing channel dimana terdapat channel yang memiliki reputasi sangat baik (banyak disukai oleh pengunjung) dan yang sangat tidak baik (banyak yang tidak disukai oleh pengunjung)**. Kesimpulan yang dapat diambil dari hal ini adalah pengambilan nama untuk `channel_title` tersebut tidak terlalu berpengaruh terhadap jumlah views, likes, ataupun dislikes **namun yang berpengaruh adalah bagaimana reputasi channel yang telah dibangun**."
   ]
  },
  {
   "attachments": {},
   "cell_type": "markdown",
   "metadata": {},
   "source": [
    "# Exploratory Data Analysis Untuk Category Dengan Rasio Likes Per Views & Rasio Dislikes Per Views "
   ]
  },
  {
   "cell_type": "code",
   "execution_count": 344,
   "metadata": {},
   "outputs": [
    {
     "data": {
      "image/png": "[encoded data removed]",
      "text/plain": [
       "<Figure size 864x576 with 1 Axes>"
      ]
     },
     "metadata": {
      "needs_background": "light"
     },
     "output_type": "display_data"
    }
   ],
   "source": [
    "Top5_category_ratio_like_per_view = pd.DataFrame(df_cleaned.groupby('category')['ratio_likes_per_view (percentage)'].mean().sort_values(ascending = False).head().round(2))\n",
    "colors = ['darkgrey' if v != Top5_category_ratio_like_per_view['ratio_likes_per_view (percentage)'].max() else 'steelblue' for i, v in enumerate(Top5_category_ratio_like_per_view['ratio_likes_per_view (percentage)'])]\n",
    "\n",
    "def format_xticks(label, limit=20):\n",
    "    if len(label) > limit:\n",
    "        return label[:limit] + '...'\n",
    "    else:\n",
    "        return label\n",
    "    \n",
    "plt.figure(figsize=(12, 8))\n",
    "ax = sns.barplot(data=Top5_category_ratio_like_per_view, x=Top5_category_ratio_like_per_view.index, y='ratio_likes_per_view (percentage)', palette=colors)\n",
    "plt.title('Top 5 Category Dengan Ratio Likes Per View Terbesar')\n",
    "ax.set_xticklabels([format_xticks(label.get_text()) for label in ax.get_xticklabels()], \n",
    "                   rotation=90, fontsize=10)\n",
    "ax.set_ylim(0,5)\n",
    "def format_yticks(value, _):\n",
    "    return '{:,.0f}%'.format(value)\n",
    "ax.yaxis.set_major_formatter(ticker.FuncFormatter(format_yticks))\n",
    "for i, v in enumerate(Top5_category_ratio_like_per_view['ratio_likes_per_view (percentage)']):\n",
    "    if v == Top5_category_ratio_like_per_view['ratio_likes_per_view (percentage)'].max():\n",
    "        ax.text(i, v, f\"{v:.2f}%\", ha='center', color=max_color, fontweight='bold')\n",
    "    else:\n",
    "        ax.text(i, v, f\"{v:.2f}%\", ha='center')"
   ]
  },
  {
   "cell_type": "code",
   "execution_count": 345,
   "metadata": {},
   "outputs": [
    {
     "data": {
      "image/png": "[encoded data removed]",
      "text/plain": [
       "<Figure size 864x576 with 1 Axes>"
      ]
     },
     "metadata": {
      "needs_background": "light"
     },
     "output_type": "display_data"
    }
   ],
   "source": [
    "Top5_category_ratio_dislike_per_view = pd.DataFrame(df_cleaned.groupby('category')['ratio_dislikes_per_view (percentage)'].mean().sort_values(ascending = False).head().round(2))\n",
    "colors = ['darkgrey' if v != Top5_category_ratio_dislike_per_view['ratio_dislikes_per_view (percentage)'].max() else 'steelblue' for i, v in enumerate(Top5_category_ratio_dislike_per_view['ratio_dislikes_per_view (percentage)'])]\n",
    "\n",
    "def format_xticks(label, limit=20):\n",
    "    if len(label) > limit:\n",
    "        return label[:limit] + '...'\n",
    "    else:\n",
    "        return label\n",
    "    \n",
    "plt.figure(figsize=(12, 8))\n",
    "ax = sns.barplot(data=Top5_category_ratio_dislike_per_view, x=Top5_category_ratio_dislike_per_view.index, y='ratio_dislikes_per_view (percentage)', palette=colors)\n",
    "plt.title('Top 5 Category Dengan Ratio Dislikes Per View Terbesar')\n",
    "ax.set_xticklabels([format_xticks(label.get_text()) for label in ax.get_xticklabels()], \n",
    "                   rotation=90, fontsize=10)\n",
    "ax.set_ylim(0,0.5)\n",
    "def format_yticks(value, _):\n",
    "    return '{:,.1f}%'.format(value)\n",
    "ax.yaxis.set_major_formatter(ticker.FuncFormatter(format_yticks))\n",
    "for i, v in enumerate(Top5_category_ratio_dislike_per_view['ratio_dislikes_per_view (percentage)']):\n",
    "    if v == Top5_category_ratio_dislike_per_view['ratio_dislikes_per_view (percentage)'].max():\n",
    "        ax.text(i, v, f\"{v:.2f}%\", ha='center', color=max_color, fontweight='bold')\n",
    "    else:\n",
    "        ax.text(i, v, f\"{v:.2f}%\", ha='center')"
   ]
  },
  {
   "attachments": {},
   "cell_type": "markdown",
   "metadata": {},
   "source": [
    "Dari hal ini, didapatkan bahwa 5 kategori dengan ratio likes per views terbesar adalah music, howto & style, comedy, people & blogs, nonprofits & activism dan 5 kategori dengan ratio dislikes per views terbesar adalah nonprofits & activities, news & politics, gaming, people & blogs, dan entertainment. Apabila dilihat, **nilai rasio dislikes per views yang paling besar adalah 0,4 persen pada nonprofits & activism sehingga hal ini dapat dibilang cukup kecil dan tentunya sangat berbeda jauh dengan ratio dislikes per views dari daily caller (channel title dengan ratio dislikes per views terbesar) sehingga dapat dikatakan kategori tidak terlalu berpengaruh pada ratio dislikes per views**. Sedangkan untuk 5 kategori dengan ratio likes per views terbesar semuanya mendekati angka 4 % dimana **hal ini dapat dijadikan sebagai suatu dasar dalam pemilihan kategori video karena semakin tinggi ratio likes per views, maka tentunya probabilitas suatu video mendapatkan lebih banyak likes dan mampu meningkatkan reputasi suatu channel**."
   ]
  },
  {
   "attachments": {},
   "cell_type": "markdown",
   "metadata": {},
   "source": [
    "# Exploratory Data Analysis Untuk Title & Tags\n",
    "Hal yang perlu dijadikan catatan adalah seperti yang kita ketahui, tidak ada parameter jelas dalam pemberian judul beserta tags sehingga hal yang bisa dieksplor disini adalah bagaimana pemberian judul dan tags dari video-video yang memiliki banyak views sebagai referensi bagi content creator"
   ]
  },
  {
   "cell_type": "code",
   "execution_count": 346,
   "metadata": {},
   "outputs": [
    {
     "data": {
      "image/png": "[encoded data removed]",
      "text/plain": [
       "<Figure size 864x720 with 1 Axes>"
      ]
     },
     "metadata": {
      "needs_background": "light"
     },
     "output_type": "display_data"
    }
   ],
   "source": [
    "import matplotlib.ticker as ticker\n",
    "import warnings \n",
    "warnings.filterwarnings('ignore')\n",
    "def format_xticks(label, limit=20):\n",
    "    if len(label) > limit:\n",
    "        return label[:limit] + '...'\n",
    "    else:\n",
    "        return label\n",
    "\n",
    "top10_title_views = pd.DataFrame(df_cleaned.groupby('title')['views'].sum().sort_values(ascending = False).head(10))\n",
    "plt.figure(figsize = (12,10))\n",
    "ax = sns.barplot(data = top10_title_views, x = top10_title_views.index, y = 'views')\n",
    "ax.set_xticklabels([format_xticks(label.get_text()) for label in ax.get_xticklabels()], \n",
    "                   rotation=90, fontsize=10)\n",
    "def format_yticks(value, _):\n",
    "    return '{:,.0f}'.format(value)\n",
    "ax.yaxis.set_major_formatter(ticker.FuncFormatter(format_yticks))\n",
    "plt.title('Top 10 Video Titles Dengan Jumlah Views Terbanyak')\n",
    "plt.show()"
   ]
  },
  {
   "cell_type": "code",
   "execution_count": 347,
   "metadata": {},
   "outputs": [
    {
     "data": {
      "text/html": [
       "<div>\n",
       "<style scoped>\n",
       "    .dataframe tbody tr th:only-of-type {\n",
       "        vertical-align: middle;\n",
       "    }\n",
       "\n",
       "    .dataframe tbody tr th {\n",
       "        vertical-align: top;\n",
       "    }\n",
       "\n",
       "    .dataframe thead th {\n",
       "        text-align: right;\n",
       "    }\n",
       "</style>\n",
       "<table border=\"1\" class=\"dataframe\">\n",
       "  <thead>\n",
       "    <tr style=\"text-align: right;\">\n",
       "      <th></th>\n",
       "      <th>views</th>\n",
       "    </tr>\n",
       "    <tr>\n",
       "      <th>title</th>\n",
       "      <th></th>\n",
       "    </tr>\n",
       "  </thead>\n",
       "  <tbody>\n",
       "    <tr>\n",
       "      <th>Childish Gambino - This Is America (Official Video)</th>\n",
       "      <td>3758488765</td>\n",
       "    </tr>\n",
       "    <tr>\n",
       "      <th>Ariana Grande - No Tears Left To Cry</th>\n",
       "      <td>1529291326</td>\n",
       "    </tr>\n",
       "    <tr>\n",
       "      <th>BTS (방탄소년단) 'FAKE LOVE' Official MV</th>\n",
       "      <td>1283188291</td>\n",
       "    </tr>\n",
       "    <tr>\n",
       "      <th>Becky G, Natti Natasha - Sin Pijama (Official Video)</th>\n",
       "      <td>1182971286</td>\n",
       "    </tr>\n",
       "    <tr>\n",
       "      <th>VENOM - Official Trailer (HD)</th>\n",
       "      <td>1003151226</td>\n",
       "    </tr>\n",
       "    <tr>\n",
       "      <th>Cardi B, Bad Bunny &amp; J Balvin - I Like It [Official Music Video]</th>\n",
       "      <td>896558471</td>\n",
       "    </tr>\n",
       "    <tr>\n",
       "      <th>Selena Gomez - Back To You (Lyric Video)</th>\n",
       "      <td>818792483</td>\n",
       "    </tr>\n",
       "    <tr>\n",
       "      <th>Maluma - Marinero (Official Video)</th>\n",
       "      <td>803455479</td>\n",
       "    </tr>\n",
       "    <tr>\n",
       "      <th>Calvin Harris, Dua Lipa - One Kiss (Official Video)</th>\n",
       "      <td>792843004</td>\n",
       "    </tr>\n",
       "    <tr>\n",
       "      <th>YouTube Rewind: The Shape of 2017 | #YouTubeRewind</th>\n",
       "      <td>780801040</td>\n",
       "    </tr>\n",
       "  </tbody>\n",
       "</table>\n",
       "</div>"
      ],
      "text/plain": [
       "                                                         views\n",
       "title                                                         \n",
       "Childish Gambino - This Is America (Official Vi...  3758488765\n",
       "Ariana Grande - No Tears Left To Cry                1529291326\n",
       "BTS (방탄소년단) 'FAKE LOVE' Official MV                 1283188291\n",
       "Becky G, Natti Natasha - Sin Pijama (Official V...  1182971286\n",
       "VENOM - Official Trailer (HD)                       1003151226\n",
       "Cardi B, Bad Bunny & J Balvin - I Like It [Offi...   896558471\n",
       "Selena Gomez - Back To You (Lyric Video)             818792483\n",
       "Maluma - Marinero (Official Video)                   803455479\n",
       "Calvin Harris, Dua Lipa - One Kiss (Official Vi...   792843004\n",
       "YouTube Rewind: The Shape of 2017 | #YouTubeRewind   780801040"
      ]
     },
     "execution_count": 347,
     "metadata": {},
     "output_type": "execute_result"
    }
   ],
   "source": [
    "top10_title_views"
   ]
  },
  {
   "cell_type": "code",
   "execution_count": 348,
   "metadata": {},
   "outputs": [],
   "source": [
    "top10_tags_views = pd.DataFrame(df_cleaned.groupby('tags')['views'].sum().sort_values(ascending = False).head(10))"
   ]
  },
  {
   "cell_type": "code",
   "execution_count": 349,
   "metadata": {},
   "outputs": [
    {
     "data": {
      "image/png": "[encoded data removed]",
      "text/plain": [
       "<Figure size 864x720 with 1 Axes>"
      ]
     },
     "metadata": {
      "needs_background": "light"
     },
     "output_type": "display_data"
    }
   ],
   "source": [
    "def format_xticks(label, limit=20):\n",
    "    if len(label) > limit:\n",
    "        return label[:limit] + '...'\n",
    "    else:\n",
    "        return label\n",
    "\n",
    "plt.figure(figsize = (12,10))\n",
    "ax = sns.barplot(data = top10_tags_views, x = top10_tags_views.index, y = 'views')\n",
    "ax.set_xticklabels([format_xticks(label.get_text()) for label in ax.get_xticklabels()], \n",
    "                   rotation=90, fontsize=10)\n",
    "def format_yticks(value, _):\n",
    "    return '{:,.0f}'.format(value)\n",
    "ax.yaxis.set_major_formatter(ticker.FuncFormatter(format_yticks))\n",
    "plt.title('Top 10 Tags Dengan Jumlah Views Terbanyak')\n",
    "plt.show()"
   ]
  },
  {
   "cell_type": "code",
   "execution_count": 350,
   "metadata": {},
   "outputs": [
    {
     "data": {
      "text/html": [
       "<div>\n",
       "<style scoped>\n",
       "    .dataframe tbody tr th:only-of-type {\n",
       "        vertical-align: middle;\n",
       "    }\n",
       "\n",
       "    .dataframe tbody tr th {\n",
       "        vertical-align: top;\n",
       "    }\n",
       "\n",
       "    .dataframe thead th {\n",
       "        text-align: right;\n",
       "    }\n",
       "</style>\n",
       "<table border=\"1\" class=\"dataframe\">\n",
       "  <thead>\n",
       "    <tr style=\"text-align: right;\">\n",
       "      <th></th>\n",
       "      <th>views</th>\n",
       "    </tr>\n",
       "    <tr>\n",
       "      <th>tags</th>\n",
       "      <th></th>\n",
       "    </tr>\n",
       "  </thead>\n",
       "  <tbody>\n",
       "    <tr>\n",
       "      <th>Childish Gambino|\"Rap\"|\"This Is America\"|\"mcDJ Recording/RCA Records\"</th>\n",
       "      <td>3758488765</td>\n",
       "    </tr>\n",
       "    <tr>\n",
       "      <th>[none]</th>\n",
       "      <td>2262567285</td>\n",
       "    </tr>\n",
       "    <tr>\n",
       "      <th>Ariana|\"Grande\"|\"No\"|\"Tears\"|\"Left\"|\"To\"|\"Cry\"|\"Universal\"|\"Records\"|\"Pop\"</th>\n",
       "      <td>1529291326</td>\n",
       "    </tr>\n",
       "    <tr>\n",
       "      <th>Becky G|\"Natti Natasha\"|\"Natti Natasha Music\"|\"Natti Natasha Official Video\"|\"Natti Natasha Video\"|\"Natti Natasha Video Oficial\"|\"Natti Natasha Nuevo Video\"|\"Natti Natasha New Video\"|\"Sin Pijama Official Video\"|\"Official Video\"|\"Sin Pijama Official Remix Video\"|\"Sin Pijama Single\"|\"Single\"|\"Natti Natasha New Single\"|\"Natti Natasha Single\"|\"Natti Natasha Song\"|\"Sin Pijama new song\"|\"Sin Pijama nueva canción\"|\"Natti Natasha nueva cancion\"|\"Natti\"|\"Natasha\"|\"en\"</th>\n",
       "      <td>1182971286</td>\n",
       "    </tr>\n",
       "    <tr>\n",
       "      <th>BIGHIT|\"빅히트\"|\"방탄소년단\"|\"BTS\"|\"BANGTAN\"|\"방탄\"|\"FAKE LOVE\"|\"FAKE_LOVE\"|\"fake love\"</th>\n",
       "      <td>1042182680</td>\n",
       "    </tr>\n",
       "    <tr>\n",
       "      <th>Venom|\"Venom Movie\"|\"Venom (2018)\"|\"Marvel\"|\"Marvel Comics\"|\"Planet of the Symbiotes\"|\"Eddie Brock\"|\"Tom Hardy\"|\"Ruben Fleischer\"|\"Spider-man\"|\"Spider-man: Homecoming\"|\"Michelle Williams\"|\"Jenny Slate\"|\"Riz Ahmed\"|\"Spider-man Spinoff\"|\"We Are Venom\"|\"Peter Parker\"|\"Sony Pictures Entertainment\"|\"film\"|\"movie\"|\"official\"|\"official venom movie trailer\"|\"official trailer\"|\"sony pictures venom\"</th>\n",
       "      <td>1003151226</td>\n",
       "    </tr>\n",
       "    <tr>\n",
       "      <th>Cardi B|\"I Like It\"|\"Invasion of Privacy\"|\"Bad Bunny\"|\"J Balvin\"|\"Bronx\"|\"New York\"|\"Rap\"|\"Hip Hop\"|\"Bodak Yellow\"|\"Bartier Cardi\"|\"8zSRkr1nQNw\"|\"Cardi\"|\"Bardi\"</th>\n",
       "      <td>896558471</td>\n",
       "    </tr>\n",
       "    <tr>\n",
       "      <th>BIGHIT|\"빅히트\"|\"방탄소년단\"|\"BTS\"|\"BANGTAN\"|\"방탄\"</th>\n",
       "      <td>854011724</td>\n",
       "    </tr>\n",
       "    <tr>\n",
       "      <th>selena gomez|\"13 reasons why\"|\"back to you\"|\"selena\"|\"gomez\"|\"13 reasons\"|\"netflix\"</th>\n",
       "      <td>818792483</td>\n",
       "    </tr>\n",
       "    <tr>\n",
       "      <th>Maluma Marinero|\"Maluma Marinero official video\"|\"Marinero video oficial\"|\"latin pop\"|\"Reggaeton\"|\"Marinero dance\"|\"Maluma Marinero karaoke\"|\"Maluma mix\"|\"Maluma exitos\"|\"Maluma Marinero lyrics\"|\"Marinero letra\"|\"Maluma best songs\"|\"music video\"|\"musica en espanol\"|\"latin music\"|\"Marinero remix\"|\"Reggaeton mix\"|\"Felices Los 4\"|\"El Prestamo\"|\"Chantaje\"|\"Cuatro Babys\"|\"Corazon\"|\"J.Balvin\"|\"Ozuna\"|\"Daddy Yankee\"|\"Nicky Jam\"|\"live\"|\"en vivo\"|\"Maluma Marinero english\"|\"Latin\"</th>\n",
       "      <td>803455479</td>\n",
       "    </tr>\n",
       "  </tbody>\n",
       "</table>\n",
       "</div>"
      ],
      "text/plain": [
       "                                                         views\n",
       "tags                                                          \n",
       "Childish Gambino|\"Rap\"|\"This Is America\"|\"mcDJ ...  3758488765\n",
       "[none]                                              2262567285\n",
       "Ariana|\"Grande\"|\"No\"|\"Tears\"|\"Left\"|\"To\"|\"Cry\"|...  1529291326\n",
       "Becky G|\"Natti Natasha\"|\"Natti Natasha Music\"|\"...  1182971286\n",
       "BIGHIT|\"빅히트\"|\"방탄소년단\"|\"BTS\"|\"BANGTAN\"|\"방탄\"|\"FAKE...  1042182680\n",
       "Venom|\"Venom Movie\"|\"Venom (2018)\"|\"Marvel\"|\"Ma...  1003151226\n",
       "Cardi B|\"I Like It\"|\"Invasion of Privacy\"|\"Bad ...   896558471\n",
       "BIGHIT|\"빅히트\"|\"방탄소년단\"|\"BTS\"|\"BANGTAN\"|\"방탄\"            854011724\n",
       "selena gomez|\"13 reasons why\"|\"back to you\"|\"se...   818792483\n",
       "Maluma Marinero|\"Maluma Marinero official video...   803455479"
      ]
     },
     "execution_count": 350,
     "metadata": {},
     "output_type": "execute_result"
    }
   ],
   "source": [
    "top10_tags_views"
   ]
  },
  {
   "attachments": {},
   "cell_type": "markdown",
   "metadata": {},
   "source": [
    "Satu satunya kesamaan yang dapat dilihat dari pemberian judul beserta tags dari top 10 `title` dan `tags` adalah dalam pemberian judul, selalu terdapat sebuah simbol seperti `-` `,` `:` `|` `'` `#` dan untuk pemberian tags, sebagian besar dari 10 tags dengan views terbanyak memiliki banyak tags yang diberikan dan tags yang diberikan menggambarkan hal-hal yang berkaitan dengan judul video, sehingga dapat diambil kesimpulan bahwa **pemberian simbol pada judul dan pemberian tags yang berjumlah cukup banyak berpotensi dalam mempermudah suatu video untuk dicari sehingga hal ini dapat dijadikan referensi bagi content creator**."
   ]
  },
  {
   "cell_type": "code",
   "execution_count": 351,
   "metadata": {},
   "outputs": [],
   "source": [
    "df_cleaned.to_csv('USvideos_cleaned.csv', index = False)"
   ]
  },
  {
   "attachments": {},
   "cell_type": "markdown",
   "metadata": {},
   "source": [
    "# Kesimpulan dan Rekomendasi\n",
    "Dari analisa yang telah dilakukan, dapat ditarik sebuah kesimpulan seperti berikut :\n",
    "* Kategori video yang paling banyak trending adalah entertainment yakni sebesar 24,3 % dari 40926 video yang trending di dataset ini.\n",
    "* Kategori music, film & animation, nonprofits & activism, gaming, dan entertainment memiliki rata-rata views yang paling banyak dari dataset ini. \n",
    "* Kategori news & politics, education, pets & animals, travel & events, dan shows memiliki rata-rata views yang paling sedikit dari dataset ini.\n",
    "* Kategori nonprofits & activism, music, gaming, film & animation, dan comedy merupakan 5 kategori yang memiliki rata-rata like terbesar dari dataset ini.\n",
    "* Kategori nonprofits & activism, gaming, music, entertainment, dan people & blogs merupakan 5 kategori yang memiliki rata-rata dislike terbesar dari dataset ini.\n",
    "* Ditemukan bahwa persentase like per views adalah 3,15 % dan persentase dislike per views adalah 0,16 % dimana `views`, `likes`, dan `dislikes` memiliki hubungan berbentuk korelasi positif antara satu sama lain.\n",
    "* Waktu rata-rata yang dibutuhkan sebuah video untuk trending adalah 17 hari.\n",
    "* Kategori comedy, howto & style, nonprofits & activism, pets & animals, dan travel & events memiliki waktu rata-rata tercepat untuk trending. Dari kelima kategori tersebut, kategori nonprofits & activism memiliki waktu rata-rata tercepat untuk trending yakni 5 hari.\n",
    "* Berdasarkan uji mann whitney, pemberian description pada video mempengaruhi jumlah views yang dapat diperoleh dimana rata-rata views yang lebih besar didapatkan pada video yang memiliki description.\n",
    "* Pengambilan nama untuk `channel_title` tersebut tidak terlalu berpengaruh terhadap jumlah views, likes, ataupun dislikes namun yang berpengaruh adalah bagaimana reputasi channel yang telah dibangun. Channel yang memiliki rasio likes per views terbesar adalah Desimpedidos dengan nilai 20,45 % dan channel yang memiliki rasio dislikes per views adalah Daily Caller dengan nilai 19,04 %.\n",
    "* 5 kategori dengan ratio likes per views terbesar adalah music, howto & style, comedy, people & blogs, nonprofits & activism.\n",
    "* 5 kategori dengan ratio dislikes per views terbesar adalah nonprofits & activities, news & politics, gaming, people & blogs, dan entertainment.\n",
    "* Pemberian simbol pada judul dan pemberian tags yang berjumlah cukup banyak berpotensi dalam mempermudah suatu video untuk dicari dikarenakan pada top 10 `title` dan `tags` dengan views terbesar, selalu terdapat sebuah simbol seperti `-` `,` `:` `|` `'` `#` dan untuk pemberian tags, sebagian besar dari 10 tags dengan views terbesar memiliki banyak tags yang diberikan dan tags yang diberikan menggambarkan hal-hal yang berkaitan dengan judul video.\n",
    "\n",
    "**Rekomendasi**\n",
    "1. Jadikan jumlah views sebagai fokus utama dikarenakan telah terbukti bahwa rasio like per views adalah 3,15 % dan juga terlihat dari hubungan korelasi bahwa semakin banyak views yang diperoleh, jumlah likes yang didapat juga akan meningkat lebih besar dibandingkan jumlah dislikes yang meningkat.\n",
    "2. Pilihlah salah satu kategori dari kategori music, film & animation, nonprofits & activism, gaming, dan entertainment karena kelima kategori ini memiliki rata-rata views yang paling banyak dimana kategori yang lebih disarankan dari lima kategori tersebut adalah **music dan nonprofits & activities berhubung kedua kategori ini juga termasuk dalam list 5 kategori dengan ratio likes per views terbesar**.\n",
    "    * Apabila content creator ingin video yang dibuat juga cepat trending, maka pilihlah kategori nonprofits & activism karena kategori ini termasuk dari 5 kategori dengan rata-rata views yang paling banyak dan ratio likes per views terbesar dimana kategori ini juga memiliki **waktu rata-rata tercepat untuk trending yakni 5 hari**.\n",
    "3. Berikan description pada video yang diupload karena telah terbukti bahwa pemberian description pada video mempengaruhi jumlah views yang dapat diperoleh.\n",
    "4. Jangan terlalu fokus pada pemberian nama untuk judul channel karena nama dari channel tidak berpengaruh terhadap jumlah views, likes, ataupun dislikes namun yang berpengaruh adalah bagaimana reputasi channel yang telah dibangun sehingga utamakan hal tersebut.\n",
    "    * Jadikan rasio like per views dan dislike per views dari video yang diupload sebagai patokan untuk melihat apakah video tersebut meningkatkan atau menurunkan reputasi channel anda.\n",
    "5. Tambahkan simbol seperti `-` `,` `:` `|` `'` `#` pada judul video dan juga berikan banyak tags pada video dimana tags yang diberikan diusahakan dapat menggambarkan hal-hal yang berkaitan dengan judul video tersebut karena kedua hal ini berpotensi untuk mempermudah video yang diupload untuk dicari."
   ]
  }
 ],
 "metadata": {
  "kernelspec": {
   "display_name": "Python 3",
   "language": "python",
   "name": "python3"
  },
  "language_info": {
   "codemirror_mode": {
    "name": "ipython",
    "version": 3
   },
   "file_extension": ".py",
   "mimetype": "text/x-python",
   "name": "python",
   "nbconvert_exporter": "python",
   "pygments_lexer": "ipython3",
   "version": "3.10.4"
  },
  "orig_nbformat": 4,
  "vscode": {
   "interpreter": {
    "hash": "2d26adb48b263cb84500a0203af6c150e679c44a6a99741a5d631281724c601f"
   }
  }
 },
 "nbformat": 4,
 "nbformat_minor": 2
}
